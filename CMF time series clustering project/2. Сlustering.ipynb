{
 "cells": [
  {
   "cell_type": "code",
   "execution_count": 9,
   "id": "cf18f621",
   "metadata": {},
   "outputs": [],
   "source": [
    "#импорт необходимых библиотек\n",
    "\n",
    "import numpy as np\n",
    "import pandas as pd\n",
    "import os\n",
    "import time\n",
    "import datetime\n",
    "from random import randint, seed\n",
    "\n",
    "import seaborn as sns\n",
    "import matplotlib.pyplot as plt\n",
    "\n",
    "from sklearn.metrics import silhouette_score\n",
    "from sklearn.metrics import calinski_harabasz_score\n",
    "from sklearn.metrics import davies_bouldin_score\n",
    "\n",
    "from core_changed import Backtest, PlotPoint, IStrategy\n",
    "from multiprocessing import Pool\n",
    "from math import log\n",
    "from datetime import datetime\n",
    "\n",
    "from tslearn.metrics import dtw\n",
    "import itertools\n",
    "from sklearn.cluster import DBSCAN\n",
    "\n",
    "from sklearn.preprocessing import MinMaxScaler"
   ]
  },
  {
   "cell_type": "markdown",
   "id": "7f112081",
   "metadata": {},
   "source": [
    "## Кластеризация и поиск оптимальных кластеров"
   ]
  },
  {
   "cell_type": "code",
   "execution_count": 10,
   "id": "5c0c6c0b",
   "metadata": {},
   "outputs": [],
   "source": [
    "total_path = 'C:\\\\Users\\\\Алексей\\\\Учеба\\\\ЦМФ\\\\Проекты\\\\Алготрейдинг\\\\Задание 6'\n",
    "data_path = total_path + '\\\\stock_data'"
   ]
  },
  {
   "cell_type": "code",
   "execution_count": 11,
   "id": "d4ac0b12",
   "metadata": {},
   "outputs": [],
   "source": [
    "def calc_centers_of_clusters(df,labels):\n",
    "    # функция рассчета центров кластеров\n",
    "    X = df.copy()\n",
    "    X ['labels'] = labels\n",
    "    numbers = list(set(labels))\n",
    "    result = {}\n",
    "    for i in numbers:\n",
    "        cluster_data = X[X['labels']==i].copy()\n",
    "        sum_dict = dict(cluster_data.mean())\n",
    "        del sum_dict['labels']\n",
    "        result[i] = sum_dict\n",
    "        \n",
    "    return result"
   ]
  },
  {
   "cell_type": "code",
   "execution_count": 12,
   "id": "be815897",
   "metadata": {},
   "outputs": [],
   "source": [
    "def calc_RMSSTD(df,labels):\n",
    "    # функция рассчета компактности кластеров\n",
    "    \n",
    "    centers_of_clusters = calc_centers_of_clusters(df,labels)\n",
    "    X = df.copy()\n",
    "    X ['labels'] = labels\n",
    "\n",
    "    total_nominator = 0\n",
    "    total_denominator = 0\n",
    "    for i in centers_of_clusters:\n",
    "        cluster_center = centers_of_clusters[i]\n",
    "        cluster_data = X[X['labels']==i].copy()\n",
    "        cluster_data.drop('labels', axis=1, inplace=True)\n",
    "        diff = np.power(cluster_data - cluster_center, 2)\n",
    "        norm_diff = diff.sum(axis = 1)\n",
    "        sum_el = sum(norm_diff)\n",
    "        total_nominator= total_nominator + sum_el\n",
    "\n",
    "        n_el = cluster_data.shape[0]\n",
    "        total_denominator= total_denominator + n_el-1\n",
    "\n",
    "    n_features = cluster_data.shape[1]\n",
    "    RMSSTD = (total_nominator/(n_features*total_denominator))**0.5\n",
    "    \n",
    "    return RMSSTD"
   ]
  },
  {
   "cell_type": "code",
   "execution_count": 13,
   "id": "48cf255a",
   "metadata": {},
   "outputs": [],
   "source": [
    "def find_best_param(d, eps_list, min_samples_list, flag):\n",
    "    # кастомная функция поиска оптимальных параметров по значениям метрик\n",
    "    # Принимает: словарь с метриками, список eps, список min_samples, флаг, определяющий метрику\n",
    "    # возвращает: наилучши\n",
    "    best_eps = np.nan\n",
    "    best_min_samples = np.nan\n",
    "    if flag == 's' or flag == 'c-h':\n",
    "        best_score = -2\n",
    "        for i in d:\n",
    "            eps = i\n",
    "            sub_list = d[i]\n",
    "            for j in sub_list:\n",
    "                if j > best_score:\n",
    "                    best_eps = eps\n",
    "                    best_min_samples = min_samples_list[sub_list.index(j)]\n",
    "                    best_score = j\n",
    "        if flag == 's':\n",
    "            print('Лучший силуэт: '+str(best_score))\n",
    "        else:\n",
    "            print('Лучший индекс Калински-Харабаша: '+str(best_score))\n",
    "        print('Eps при нем: '+str(best_eps))\n",
    "        print('Min_samples при нем: '+str(best_min_samples))\n",
    "        \n",
    "        \n",
    "    elif flag == 'd-b':\n",
    "        best_score = 100000\n",
    "        for i in d:\n",
    "            eps = i\n",
    "            sub_list = d[i]\n",
    "            for j in sub_list:\n",
    "                if j < best_score:\n",
    "                    best_eps = eps\n",
    "                    best_min_samples = min_samples_list[sub_list.index(j)]\n",
    "                    best_score = j\n",
    "        print('Лучший индекс Дэвиса-Болдуина: '+str(best_score))\n",
    "        print('Eps при нем: '+str(best_eps))\n",
    "        print('Min_samples при нем: '+str(best_min_samples))\n",
    "        \n",
    "        \n",
    "    return best_eps, best_min_samples, best_score"
   ]
  },
  {
   "cell_type": "code",
   "execution_count": 14,
   "id": "b88ba63e",
   "metadata": {},
   "outputs": [],
   "source": [
    "total_df = pd.read_csv('data_final_v1_upd.csv')"
   ]
  },
  {
   "cell_type": "code",
   "execution_count": 15,
   "id": "59c657e8",
   "metadata": {},
   "outputs": [],
   "source": [
    "## пересобираем датасет\n",
    "\n",
    "new_col_name = list(total_df['Datetime'])\n",
    "del total_df['Datetime']\n",
    "\n",
    "\n",
    "\n",
    "total_df = total_df.T\n",
    "total_df = total_df.reset_index()\n",
    "total_df = pd.DataFrame(np.array(total_df), columns = ['ticker'] + new_col_name)\n",
    "\n",
    "feature_columns = list(total_df.columns)[1:]\n",
    "\n",
    "tickers = list(total_df['ticker'])"
   ]
  },
  {
   "cell_type": "markdown",
   "id": "a2479678",
   "metadata": {},
   "source": [
    "### 1. Делим на трейн и тест"
   ]
  },
  {
   "cell_type": "code",
   "execution_count": 16,
   "id": "75826f3f",
   "metadata": {},
   "outputs": [],
   "source": [
    "test_size = 0.3"
   ]
  },
  {
   "cell_type": "code",
   "execution_count": 17,
   "id": "98657c0a",
   "metadata": {},
   "outputs": [],
   "source": [
    "test_columns = ['ticker']+feature_columns[(-1)*int(np.round(len(total_df.columns)*test_size)):]\n",
    "train_columns = ['ticker']+feature_columns[:(-1)*int(np.round(len(total_df.columns)*test_size))]"
   ]
  },
  {
   "cell_type": "code",
   "execution_count": 18,
   "id": "718781cc",
   "metadata": {},
   "outputs": [],
   "source": [
    "test_df = total_df[test_columns]\n",
    "train_df = total_df[train_columns]"
   ]
  },
  {
   "cell_type": "code",
   "execution_count": 19,
   "id": "be93e5f2",
   "metadata": {},
   "outputs": [],
   "source": [
    "test_df.to_csv('test.csv',index = False)\n",
    "train_df.to_csv('train.csv',index = False)"
   ]
  },
  {
   "cell_type": "markdown",
   "id": "92e10ebf",
   "metadata": {},
   "source": [
    "### 2. Нормализуем и рассчитываем матрицу dtw расстояний между объектами"
   ]
  },
  {
   "cell_type": "code",
   "execution_count": 20,
   "id": "1e933cce",
   "metadata": {},
   "outputs": [],
   "source": [
    "test_df = pd.read_csv('test.csv')\n",
    "train_df = pd.read_csv('train.csv')"
   ]
  },
  {
   "cell_type": "code",
   "execution_count": 21,
   "id": "ee0b8916",
   "metadata": {},
   "outputs": [],
   "source": [
    "tickers = list(train_df['ticker'])\n",
    "data_columns = list(train_df.columns)[1:]\n",
    "\n",
    "tickers_pairs= list(itertools.combinations(tickers, 2))\n",
    "\n",
    "train_norm_df = pd.DataFrame(columns = ['ticker']+data_columns)"
   ]
  },
  {
   "cell_type": "code",
   "execution_count": 22,
   "id": "f02fa41f",
   "metadata": {},
   "outputs": [],
   "source": [
    "#нормализация\n",
    "for i in tickers:\n",
    "    ts = np.array(train_df[data_columns][train_df['ticker']==i]).reshape(-1,1)\n",
    "    scaler = MinMaxScaler()\n",
    "    ts_norm = scaler.fit_transform(np.array(ts))\n",
    "    ts_norm = list(ts_norm.reshape(393,))\n",
    "\n",
    "    new_row = {data_columns[i]:ts_norm[i] for i in range(0,len(ts_norm))}\n",
    "    new_row['ticker'] = i\n",
    "    train_norm_df = train_norm_df.append(new_row, ignore_index=True)"
   ]
  },
  {
   "cell_type": "code",
   "execution_count": 23,
   "id": "b4d31230",
   "metadata": {},
   "outputs": [],
   "source": [
    "feature_train_columns = list(train_norm_df.columns)[1:]"
   ]
  },
  {
   "cell_type": "code",
   "execution_count": 24,
   "id": "b784296a",
   "metadata": {},
   "outputs": [
    {
     "data": {
      "text/html": [
       "<div>\n",
       "<style scoped>\n",
       "    .dataframe tbody tr th:only-of-type {\n",
       "        vertical-align: middle;\n",
       "    }\n",
       "\n",
       "    .dataframe tbody tr th {\n",
       "        vertical-align: top;\n",
       "    }\n",
       "\n",
       "    .dataframe thead th {\n",
       "        text-align: right;\n",
       "    }\n",
       "</style>\n",
       "<table border=\"1\" class=\"dataframe\">\n",
       "  <thead>\n",
       "    <tr style=\"text-align: right;\">\n",
       "      <th></th>\n",
       "      <th>ticker</th>\n",
       "      <th>2017-11-08 00:00:00</th>\n",
       "      <th>2017-11-09 00:00:00</th>\n",
       "      <th>2018-01-08 00:00:00</th>\n",
       "      <th>2018-01-09 00:00:00</th>\n",
       "      <th>2018-01-10 00:00:00</th>\n",
       "      <th>2018-03-15 00:00:00</th>\n",
       "      <th>2018-03-16 00:00:00</th>\n",
       "      <th>2018-04-12 00:00:00</th>\n",
       "      <th>2018-04-17 00:00:00</th>\n",
       "      <th>...</th>\n",
       "      <th>2021-05-14 00:00:00</th>\n",
       "      <th>2021-05-17 00:00:00</th>\n",
       "      <th>2021-05-18 00:00:00</th>\n",
       "      <th>2021-05-19 00:00:00</th>\n",
       "      <th>2021-05-20 00:00:00</th>\n",
       "      <th>2021-05-21 00:00:00</th>\n",
       "      <th>2021-05-26 00:00:00</th>\n",
       "      <th>2021-05-27 00:00:00</th>\n",
       "      <th>2021-05-28 00:00:00</th>\n",
       "      <th>2021-05-31 00:00:00</th>\n",
       "    </tr>\n",
       "  </thead>\n",
       "  <tbody>\n",
       "    <tr>\n",
       "      <th>0</th>\n",
       "      <td>1.0</td>\n",
       "      <td>0.206554</td>\n",
       "      <td>0.218256</td>\n",
       "      <td>0.255120</td>\n",
       "      <td>0.262142</td>\n",
       "      <td>0.284962</td>\n",
       "      <td>0.181978</td>\n",
       "      <td>0.177882</td>\n",
       "      <td>0.170860</td>\n",
       "      <td>0.152721</td>\n",
       "      <td>...</td>\n",
       "      <td>0.901112</td>\n",
       "      <td>0.917496</td>\n",
       "      <td>0.935050</td>\n",
       "      <td>0.917496</td>\n",
       "      <td>0.930369</td>\n",
       "      <td>0.911059</td>\n",
       "      <td>1.000000</td>\n",
       "      <td>0.987127</td>\n",
       "      <td>0.970158</td>\n",
       "      <td>0.952604</td>\n",
       "    </tr>\n",
       "    <tr>\n",
       "      <th>1</th>\n",
       "      <td>2.0</td>\n",
       "      <td>0.434615</td>\n",
       "      <td>0.436538</td>\n",
       "      <td>0.969872</td>\n",
       "      <td>0.960256</td>\n",
       "      <td>0.949359</td>\n",
       "      <td>0.756410</td>\n",
       "      <td>0.754487</td>\n",
       "      <td>0.704487</td>\n",
       "      <td>0.580769</td>\n",
       "      <td>...</td>\n",
       "      <td>0.587821</td>\n",
       "      <td>0.591026</td>\n",
       "      <td>0.601923</td>\n",
       "      <td>0.568590</td>\n",
       "      <td>0.581410</td>\n",
       "      <td>0.555769</td>\n",
       "      <td>0.594872</td>\n",
       "      <td>0.593590</td>\n",
       "      <td>0.580128</td>\n",
       "      <td>0.564103</td>\n",
       "    </tr>\n",
       "    <tr>\n",
       "      <th>2</th>\n",
       "      <td>5.0</td>\n",
       "      <td>0.986395</td>\n",
       "      <td>1.000000</td>\n",
       "      <td>0.904762</td>\n",
       "      <td>0.918367</td>\n",
       "      <td>0.887755</td>\n",
       "      <td>0.775510</td>\n",
       "      <td>0.768707</td>\n",
       "      <td>0.670068</td>\n",
       "      <td>0.636054</td>\n",
       "      <td>...</td>\n",
       "      <td>0.091837</td>\n",
       "      <td>0.057823</td>\n",
       "      <td>0.037415</td>\n",
       "      <td>0.037415</td>\n",
       "      <td>0.006803</td>\n",
       "      <td>0.000000</td>\n",
       "      <td>0.017007</td>\n",
       "      <td>0.040816</td>\n",
       "      <td>0.027211</td>\n",
       "      <td>0.013605</td>\n",
       "    </tr>\n",
       "    <tr>\n",
       "      <th>3</th>\n",
       "      <td>9.0</td>\n",
       "      <td>0.468031</td>\n",
       "      <td>0.465473</td>\n",
       "      <td>0.413043</td>\n",
       "      <td>0.409207</td>\n",
       "      <td>0.397698</td>\n",
       "      <td>0.278772</td>\n",
       "      <td>0.290281</td>\n",
       "      <td>0.278772</td>\n",
       "      <td>0.254476</td>\n",
       "      <td>...</td>\n",
       "      <td>0.887468</td>\n",
       "      <td>0.878517</td>\n",
       "      <td>0.891304</td>\n",
       "      <td>0.927110</td>\n",
       "      <td>0.870844</td>\n",
       "      <td>0.863171</td>\n",
       "      <td>0.868286</td>\n",
       "      <td>0.859335</td>\n",
       "      <td>0.875959</td>\n",
       "      <td>0.927110</td>\n",
       "    </tr>\n",
       "    <tr>\n",
       "      <th>4</th>\n",
       "      <td>10.0</td>\n",
       "      <td>0.991045</td>\n",
       "      <td>0.976119</td>\n",
       "      <td>1.000000</td>\n",
       "      <td>0.943284</td>\n",
       "      <td>0.931343</td>\n",
       "      <td>0.579104</td>\n",
       "      <td>0.597015</td>\n",
       "      <td>0.349254</td>\n",
       "      <td>0.211940</td>\n",
       "      <td>...</td>\n",
       "      <td>0.370149</td>\n",
       "      <td>0.337313</td>\n",
       "      <td>0.334328</td>\n",
       "      <td>0.343284</td>\n",
       "      <td>0.352239</td>\n",
       "      <td>0.379104</td>\n",
       "      <td>0.373134</td>\n",
       "      <td>0.367164</td>\n",
       "      <td>0.349254</td>\n",
       "      <td>0.358209</td>\n",
       "    </tr>\n",
       "    <tr>\n",
       "      <th>...</th>\n",
       "      <td>...</td>\n",
       "      <td>...</td>\n",
       "      <td>...</td>\n",
       "      <td>...</td>\n",
       "      <td>...</td>\n",
       "      <td>...</td>\n",
       "      <td>...</td>\n",
       "      <td>...</td>\n",
       "      <td>...</td>\n",
       "      <td>...</td>\n",
       "      <td>...</td>\n",
       "      <td>...</td>\n",
       "      <td>...</td>\n",
       "      <td>...</td>\n",
       "      <td>...</td>\n",
       "      <td>...</td>\n",
       "      <td>...</td>\n",
       "      <td>...</td>\n",
       "      <td>...</td>\n",
       "      <td>...</td>\n",
       "      <td>...</td>\n",
       "    </tr>\n",
       "    <tr>\n",
       "      <th>1801</th>\n",
       "      <td>603987.0</td>\n",
       "      <td>0.264335</td>\n",
       "      <td>0.261082</td>\n",
       "      <td>0.132981</td>\n",
       "      <td>0.151688</td>\n",
       "      <td>0.144774</td>\n",
       "      <td>0.114274</td>\n",
       "      <td>0.115087</td>\n",
       "      <td>0.154534</td>\n",
       "      <td>0.124034</td>\n",
       "      <td>...</td>\n",
       "      <td>0.785685</td>\n",
       "      <td>0.827572</td>\n",
       "      <td>0.813339</td>\n",
       "      <td>0.793819</td>\n",
       "      <td>0.788939</td>\n",
       "      <td>0.741765</td>\n",
       "      <td>0.768605</td>\n",
       "      <td>0.795445</td>\n",
       "      <td>0.891013</td>\n",
       "      <td>1.000000</td>\n",
       "    </tr>\n",
       "    <tr>\n",
       "      <th>1802</th>\n",
       "      <td>603989.0</td>\n",
       "      <td>0.761845</td>\n",
       "      <td>0.793641</td>\n",
       "      <td>0.731920</td>\n",
       "      <td>0.778678</td>\n",
       "      <td>0.969451</td>\n",
       "      <td>0.656484</td>\n",
       "      <td>0.683292</td>\n",
       "      <td>0.769327</td>\n",
       "      <td>0.744389</td>\n",
       "      <td>...</td>\n",
       "      <td>0.775561</td>\n",
       "      <td>0.720698</td>\n",
       "      <td>0.746259</td>\n",
       "      <td>0.711347</td>\n",
       "      <td>0.700748</td>\n",
       "      <td>0.712594</td>\n",
       "      <td>0.738778</td>\n",
       "      <td>0.799252</td>\n",
       "      <td>0.814214</td>\n",
       "      <td>0.832294</td>\n",
       "    </tr>\n",
       "    <tr>\n",
       "      <th>1803</th>\n",
       "      <td>603991.0</td>\n",
       "      <td>0.480010</td>\n",
       "      <td>0.489274</td>\n",
       "      <td>0.306192</td>\n",
       "      <td>0.306192</td>\n",
       "      <td>0.291565</td>\n",
       "      <td>0.185032</td>\n",
       "      <td>0.180156</td>\n",
       "      <td>0.283764</td>\n",
       "      <td>0.276938</td>\n",
       "      <td>...</td>\n",
       "      <td>0.939542</td>\n",
       "      <td>0.941736</td>\n",
       "      <td>0.928084</td>\n",
       "      <td>0.889078</td>\n",
       "      <td>0.866650</td>\n",
       "      <td>0.864700</td>\n",
       "      <td>0.900049</td>\n",
       "      <td>0.945880</td>\n",
       "      <td>0.963676</td>\n",
       "      <td>1.000000</td>\n",
       "    </tr>\n",
       "    <tr>\n",
       "      <th>1804</th>\n",
       "      <td>603993.0</td>\n",
       "      <td>0.571669</td>\n",
       "      <td>0.564924</td>\n",
       "      <td>0.635750</td>\n",
       "      <td>0.625632</td>\n",
       "      <td>0.620573</td>\n",
       "      <td>1.000000</td>\n",
       "      <td>0.961214</td>\n",
       "      <td>0.797639</td>\n",
       "      <td>0.694772</td>\n",
       "      <td>...</td>\n",
       "      <td>0.414840</td>\n",
       "      <td>0.443508</td>\n",
       "      <td>0.455312</td>\n",
       "      <td>0.460371</td>\n",
       "      <td>0.408094</td>\n",
       "      <td>0.424958</td>\n",
       "      <td>0.396290</td>\n",
       "      <td>0.389545</td>\n",
       "      <td>0.411467</td>\n",
       "      <td>0.423272</td>\n",
       "    </tr>\n",
       "    <tr>\n",
       "      <th>1805</th>\n",
       "      <td>603999.0</td>\n",
       "      <td>1.000000</td>\n",
       "      <td>0.997967</td>\n",
       "      <td>0.735772</td>\n",
       "      <td>0.743902</td>\n",
       "      <td>0.703252</td>\n",
       "      <td>0.636179</td>\n",
       "      <td>0.674797</td>\n",
       "      <td>0.808943</td>\n",
       "      <td>0.652439</td>\n",
       "      <td>...</td>\n",
       "      <td>0.327236</td>\n",
       "      <td>0.347561</td>\n",
       "      <td>0.345528</td>\n",
       "      <td>0.319106</td>\n",
       "      <td>0.304878</td>\n",
       "      <td>0.416667</td>\n",
       "      <td>0.373984</td>\n",
       "      <td>0.373984</td>\n",
       "      <td>0.347561</td>\n",
       "      <td>0.349593</td>\n",
       "    </tr>\n",
       "  </tbody>\n",
       "</table>\n",
       "<p>1806 rows × 394 columns</p>\n",
       "</div>"
      ],
      "text/plain": [
       "        ticker  2017-11-08 00:00:00  2017-11-09 00:00:00  2018-01-08 00:00:00  \\\n",
       "0          1.0             0.206554             0.218256             0.255120   \n",
       "1          2.0             0.434615             0.436538             0.969872   \n",
       "2          5.0             0.986395             1.000000             0.904762   \n",
       "3          9.0             0.468031             0.465473             0.413043   \n",
       "4         10.0             0.991045             0.976119             1.000000   \n",
       "...        ...                  ...                  ...                  ...   \n",
       "1801  603987.0             0.264335             0.261082             0.132981   \n",
       "1802  603989.0             0.761845             0.793641             0.731920   \n",
       "1803  603991.0             0.480010             0.489274             0.306192   \n",
       "1804  603993.0             0.571669             0.564924             0.635750   \n",
       "1805  603999.0             1.000000             0.997967             0.735772   \n",
       "\n",
       "      2018-01-09 00:00:00  2018-01-10 00:00:00  2018-03-15 00:00:00  \\\n",
       "0                0.262142             0.284962             0.181978   \n",
       "1                0.960256             0.949359             0.756410   \n",
       "2                0.918367             0.887755             0.775510   \n",
       "3                0.409207             0.397698             0.278772   \n",
       "4                0.943284             0.931343             0.579104   \n",
       "...                   ...                  ...                  ...   \n",
       "1801             0.151688             0.144774             0.114274   \n",
       "1802             0.778678             0.969451             0.656484   \n",
       "1803             0.306192             0.291565             0.185032   \n",
       "1804             0.625632             0.620573             1.000000   \n",
       "1805             0.743902             0.703252             0.636179   \n",
       "\n",
       "      2018-03-16 00:00:00  2018-04-12 00:00:00  2018-04-17 00:00:00  ...  \\\n",
       "0                0.177882             0.170860             0.152721  ...   \n",
       "1                0.754487             0.704487             0.580769  ...   \n",
       "2                0.768707             0.670068             0.636054  ...   \n",
       "3                0.290281             0.278772             0.254476  ...   \n",
       "4                0.597015             0.349254             0.211940  ...   \n",
       "...                   ...                  ...                  ...  ...   \n",
       "1801             0.115087             0.154534             0.124034  ...   \n",
       "1802             0.683292             0.769327             0.744389  ...   \n",
       "1803             0.180156             0.283764             0.276938  ...   \n",
       "1804             0.961214             0.797639             0.694772  ...   \n",
       "1805             0.674797             0.808943             0.652439  ...   \n",
       "\n",
       "      2021-05-14 00:00:00  2021-05-17 00:00:00  2021-05-18 00:00:00  \\\n",
       "0                0.901112             0.917496             0.935050   \n",
       "1                0.587821             0.591026             0.601923   \n",
       "2                0.091837             0.057823             0.037415   \n",
       "3                0.887468             0.878517             0.891304   \n",
       "4                0.370149             0.337313             0.334328   \n",
       "...                   ...                  ...                  ...   \n",
       "1801             0.785685             0.827572             0.813339   \n",
       "1802             0.775561             0.720698             0.746259   \n",
       "1803             0.939542             0.941736             0.928084   \n",
       "1804             0.414840             0.443508             0.455312   \n",
       "1805             0.327236             0.347561             0.345528   \n",
       "\n",
       "      2021-05-19 00:00:00  2021-05-20 00:00:00  2021-05-21 00:00:00  \\\n",
       "0                0.917496             0.930369             0.911059   \n",
       "1                0.568590             0.581410             0.555769   \n",
       "2                0.037415             0.006803             0.000000   \n",
       "3                0.927110             0.870844             0.863171   \n",
       "4                0.343284             0.352239             0.379104   \n",
       "...                   ...                  ...                  ...   \n",
       "1801             0.793819             0.788939             0.741765   \n",
       "1802             0.711347             0.700748             0.712594   \n",
       "1803             0.889078             0.866650             0.864700   \n",
       "1804             0.460371             0.408094             0.424958   \n",
       "1805             0.319106             0.304878             0.416667   \n",
       "\n",
       "      2021-05-26 00:00:00  2021-05-27 00:00:00  2021-05-28 00:00:00  \\\n",
       "0                1.000000             0.987127             0.970158   \n",
       "1                0.594872             0.593590             0.580128   \n",
       "2                0.017007             0.040816             0.027211   \n",
       "3                0.868286             0.859335             0.875959   \n",
       "4                0.373134             0.367164             0.349254   \n",
       "...                   ...                  ...                  ...   \n",
       "1801             0.768605             0.795445             0.891013   \n",
       "1802             0.738778             0.799252             0.814214   \n",
       "1803             0.900049             0.945880             0.963676   \n",
       "1804             0.396290             0.389545             0.411467   \n",
       "1805             0.373984             0.373984             0.347561   \n",
       "\n",
       "      2021-05-31 00:00:00  \n",
       "0                0.952604  \n",
       "1                0.564103  \n",
       "2                0.013605  \n",
       "3                0.927110  \n",
       "4                0.358209  \n",
       "...                   ...  \n",
       "1801             1.000000  \n",
       "1802             0.832294  \n",
       "1803             1.000000  \n",
       "1804             0.423272  \n",
       "1805             0.349593  \n",
       "\n",
       "[1806 rows x 394 columns]"
      ]
     },
     "execution_count": 24,
     "metadata": {},
     "output_type": "execute_result"
    }
   ],
   "source": [
    "train_norm_df"
   ]
  },
  {
   "cell_type": "code",
   "execution_count": 26,
   "id": "c68dc6c7",
   "metadata": {},
   "outputs": [],
   "source": [
    "%%time\n",
    "# считаем пары расстояний\n",
    "dist_dict = {}\n",
    "for i in tickers_pairs:\n",
    "    print(tickers_pairs.index(i))\n",
    "    dist = dtw(list(np.array(train_norm_df[train_norm_df['ticker']==i[0]])[0][1:]), \\\n",
    "               list(np.array(train_norm_df[train_norm_df['ticker']==i[1]])[0][1:]))\n",
    "    dist_dict[i]=dist"
   ]
  },
  {
   "cell_type": "code",
   "execution_count": 177,
   "id": "bdb9a39b",
   "metadata": {},
   "outputs": [],
   "source": [
    "# собираем матрицу расстояний\n",
    "keys = list(dist_dict.keys())\n",
    "values = list(dist_dict.values())\n",
    "\n",
    "dist_matrix = np.zeros((len(tickers),len(tickers)))\n",
    "dist_matrix[:] = np.nan\n",
    "dist_matrix = pd.DataFrame(dist_matrix, columns = tickers)\n",
    "dist_matrix.index = tickers\n",
    "\n",
    "for i in range(0,len(keys)):\n",
    "    dist_matrix.loc[keys[i][0],keys[i][1]] = values[i]\n",
    "    dist_matrix.loc[keys[i][1],keys[i][0]] = values[i]\n",
    "    \n",
    "for i in range(0,len(tickers)): \n",
    "    dist_matrix.loc[tickers[i],tickers[i]] = 0"
   ]
  },
  {
   "cell_type": "code",
   "execution_count": 179,
   "id": "54613733",
   "metadata": {},
   "outputs": [],
   "source": [
    "dist_matrix.to_csv('dtw_matrix.csv')"
   ]
  },
  {
   "cell_type": "markdown",
   "id": "f1c61372",
   "metadata": {},
   "source": [
    "#### грузим матрицу и кластеризуем"
   ]
  },
  {
   "cell_type": "code",
   "execution_count": 29,
   "id": "95ef5a67",
   "metadata": {},
   "outputs": [],
   "source": [
    "dist_matrix = pd.read_csv('dtw_matrix.csv')\n",
    "dist_matrix.index = dist_matrix['Unnamed: 0']\n",
    "\n",
    "del dist_matrix['Unnamed: 0']"
   ]
  },
  {
   "cell_type": "code",
   "execution_count": 30,
   "id": "906c0766",
   "metadata": {},
   "outputs": [],
   "source": [
    "eps_list = list(np.arange(1,15,0.25))\n",
    "min_samples_list = list(np.arange(5,30,1))"
   ]
  },
  {
   "cell_type": "code",
   "execution_count": 32,
   "id": "b21f7092",
   "metadata": {
    "scrolled": true
   },
   "outputs": [],
   "source": [
    "%%time\n",
    "# кластеризуем и сразу считаем метрики\n",
    "silhouette_dict = {}\n",
    "davies_bouldin_dict = {}\n",
    "calinski_harabasz_dict = {}\n",
    "\n",
    "for i in eps_list:\n",
    "    silhouette_list =list()\n",
    "    davies_bouldin_list =list()\n",
    "    calinski_harabasz_list =list() \n",
    "    for j in min_samples_list:\n",
    "        clustering = DBSCAN(eps=i, min_samples=j, metric = 'precomputed').fit(dist_matrix)\n",
    "        labels = clustering.labels_\n",
    "        \n",
    "        if (len(set(labels))==1 or len(set(labels))==len(labels)):\n",
    "                    silhouette_list.append(-1.5)\n",
    "                    davies_bouldin_list.append(1000)\n",
    "                    calinski_harabasz_list.append(-1.5)\n",
    "        else:\n",
    "            silhouette_list.append(silhouette_score(train_norm_df[feature_train_columns], labels))\n",
    "            davies_bouldin_list.append(davies_bouldin_score(train_norm_df[feature_train_columns], labels))\n",
    "            calinski_harabasz_list.append(calinski_harabasz_score(train_norm_df[feature_train_columns], labels))\n",
    "            \n",
    "    silhouette_dict[i] = silhouette_list\n",
    "    davies_bouldin_dict[i] = davies_bouldin_list \n",
    "    calinski_harabasz_dict[i] = calinski_harabasz_list"
   ]
  },
  {
   "cell_type": "code",
   "execution_count": 18,
   "id": "4fe8b131",
   "metadata": {},
   "outputs": [
    {
     "name": "stdout",
     "output_type": "stream",
     "text": [
      "Лучший силуэт: 0.1560875628717324\n",
      "Eps при нем: 1.5\n",
      "Min_samples при нем: 5\n"
     ]
    },
    {
     "data": {
      "text/plain": [
       "(1.5, 5, 0.1560875628717324)"
      ]
     },
     "execution_count": 18,
     "metadata": {},
     "output_type": "execute_result"
    }
   ],
   "source": [
    "find_best_param(silhouette_dict, eps_list, min_samples_list, 's')"
   ]
  },
  {
   "cell_type": "code",
   "execution_count": 19,
   "id": "78c254a1",
   "metadata": {},
   "outputs": [
    {
     "name": "stdout",
     "output_type": "stream",
     "text": [
      "Лучший индекс Калински-Харабаша: 131.0139691474577\n",
      "Eps при нем: 1.0\n",
      "Min_samples при нем: 26\n"
     ]
    },
    {
     "data": {
      "text/plain": [
       "(1.0, 26, 131.0139691474577)"
      ]
     },
     "execution_count": 19,
     "metadata": {},
     "output_type": "execute_result"
    }
   ],
   "source": [
    "find_best_param(calinski_harabasz_dict, eps_list, min_samples_list, 'c-h')"
   ]
  },
  {
   "cell_type": "code",
   "execution_count": 20,
   "id": "f60c8419",
   "metadata": {},
   "outputs": [
    {
     "name": "stdout",
     "output_type": "stream",
     "text": [
      "Лучший индекс Дэвиса-Болдуина: 2.3723221055523713\n",
      "Eps при нем: 1.5\n",
      "Min_samples при нем: 5\n"
     ]
    },
    {
     "data": {
      "text/plain": [
       "(1.5, 5, 2.3723221055523713)"
      ]
     },
     "execution_count": 20,
     "metadata": {},
     "output_type": "execute_result"
    }
   ],
   "source": [
    "find_best_param(davies_bouldin_dict, eps_list, min_samples_list, 'd-b')"
   ]
  },
  {
   "cell_type": "markdown",
   "id": "8340a8e3",
   "metadata": {},
   "source": [
    "#### результат: кластеризация при лучших параметрах. Глобально - все скоры плохие. Возьмем случай с наилучшим силуэтом"
   ]
  },
  {
   "cell_type": "code",
   "execution_count": 58,
   "id": "58620ca5",
   "metadata": {},
   "outputs": [
    {
     "name": "stdout",
     "output_type": "stream",
     "text": [
      "Число кластеров 2\n"
     ]
    }
   ],
   "source": [
    "e = 1.5\n",
    "min_s = 5\n",
    "\n",
    "clustering = DBSCAN(eps=e, min_samples=min_s, metric = 'precomputed').fit(dist_matrix)\n",
    "labels = clustering.labels_\n",
    "\n",
    "print('Число кластеров '+str(len(set(labels))))"
   ]
  },
  {
   "cell_type": "markdown",
   "id": "3a877e70",
   "metadata": {},
   "source": [
    "состав этих кластеров"
   ]
  },
  {
   "cell_type": "code",
   "execution_count": 59,
   "id": "0b12b927",
   "metadata": {},
   "outputs": [
    {
     "data": {
      "text/plain": [
       "Counter({0: 1801, -1: 5})"
      ]
     },
     "execution_count": 59,
     "metadata": {},
     "output_type": "execute_result"
    }
   ],
   "source": [
    "с = Counter(labels)\n",
    "с"
   ]
  },
  {
   "cell_type": "markdown",
   "id": "950b7932",
   "metadata": {},
   "source": [
    "все очень плохо. все данные слились в 1 кластер, второй кластер - шум."
   ]
  },
  {
   "cell_type": "markdown",
   "id": "3aa8d933",
   "metadata": {},
   "source": [
    "## 3. Альтернативный подход.\n",
    "#### Подойдем к задаче альтернативно. Найдем параметры, при которых число кластеров наибольшее, а затем выбрем несколько самых компактных из них."
   ]
  },
  {
   "cell_type": "code",
   "execution_count": 122,
   "id": "a4044404",
   "metadata": {},
   "outputs": [],
   "source": [
    "eps_list = list(np.arange(0.1,1,0.01))\n",
    "min_samples_list = list(np.arange(2,4,1))"
   ]
  },
  {
   "cell_type": "code",
   "execution_count": 123,
   "id": "b3d1ef4a",
   "metadata": {},
   "outputs": [
    {
     "name": "stdout",
     "output_type": "stream",
     "text": [
      "CPU times: total: 9.36 s\n",
      "Wall time: 9.37 s\n"
     ]
    }
   ],
   "source": [
    "%%time\n",
    "# кластеризуем и сразу считаем метрики\n",
    "n_clusters_dict = {}\n",
    "davies_bouldin_dict = {}\n",
    "calinski_harabasz_dict = {}\n",
    "\n",
    "for i in eps_list:\n",
    "    n_clusters_list =list()\n",
    "    for j in min_samples_list:\n",
    "        clustering = DBSCAN(eps=i, min_samples=j, metric = 'precomputed').fit(dist_matrix)\n",
    "        labels = clustering.labels_\n",
    "        n_clusters_list.append(len(set(labels)))\n",
    "            \n",
    "    n_clusters_dict[i] = n_clusters_list"
   ]
  },
  {
   "cell_type": "code",
   "execution_count": 132,
   "id": "4aa7ba0c",
   "metadata": {},
   "outputs": [
    {
     "data": {
      "text/plain": [
       "{0.1: [1, 1],\n",
       " 0.11: [1, 1],\n",
       " 0.12: [1, 1],\n",
       " 0.13: [1, 1],\n",
       " 0.13999999999999999: [1, 1],\n",
       " 0.14999999999999997: [1, 1],\n",
       " 0.15999999999999998: [1, 1],\n",
       " 0.16999999999999998: [1, 1],\n",
       " 0.17999999999999997: [1, 1],\n",
       " 0.18999999999999995: [1, 1],\n",
       " 0.19999999999999996: [1, 1],\n",
       " 0.20999999999999996: [1, 1],\n",
       " 0.21999999999999995: [1, 1],\n",
       " 0.22999999999999995: [1, 1],\n",
       " 0.23999999999999994: [1, 1],\n",
       " 0.24999999999999992: [1, 1],\n",
       " 0.2599999999999999: [1, 1],\n",
       " 0.2699999999999999: [1, 1],\n",
       " 0.2799999999999999: [1, 1],\n",
       " 0.2899999999999999: [1, 1],\n",
       " 0.29999999999999993: [1, 1],\n",
       " 0.30999999999999994: [1, 1],\n",
       " 0.3199999999999999: [1, 1],\n",
       " 0.32999999999999985: [1, 1],\n",
       " 0.33999999999999986: [1, 1],\n",
       " 0.34999999999999987: [1, 1],\n",
       " 0.3599999999999999: [2, 2],\n",
       " 0.3699999999999999: [3, 2],\n",
       " 0.3799999999999999: [4, 2],\n",
       " 0.3899999999999999: [7, 2],\n",
       " 0.3999999999999998: [7, 3],\n",
       " 0.4099999999999998: [6, 4],\n",
       " 0.4199999999999998: [6, 5],\n",
       " 0.4299999999999998: [5, 5],\n",
       " 0.43999999999999984: [10, 4],\n",
       " 0.44999999999999984: [9, 4],\n",
       " 0.45999999999999985: [8, 4],\n",
       " 0.46999999999999986: [7, 4],\n",
       " 0.47999999999999976: [9, 5],\n",
       " 0.48999999999999977: [11, 4],\n",
       " 0.4999999999999998: [12, 5],\n",
       " 0.5099999999999998: [13, 5],\n",
       " 0.5199999999999998: [19, 7],\n",
       " 0.5299999999999998: [20, 8],\n",
       " 0.5399999999999998: [20, 10],\n",
       " 0.5499999999999998: [21, 10],\n",
       " 0.5599999999999997: [22, 10],\n",
       " 0.5699999999999997: [23, 9],\n",
       " 0.5799999999999997: [24, 8],\n",
       " 0.5899999999999997: [22, 9],\n",
       " 0.5999999999999998: [25, 11],\n",
       " 0.6099999999999998: [29, 9],\n",
       " 0.6199999999999998: [24, 11],\n",
       " 0.6299999999999997: [22, 8],\n",
       " 0.6399999999999997: [17, 7],\n",
       " 0.6499999999999997: [16, 7],\n",
       " 0.6599999999999997: [19, 6],\n",
       " 0.6699999999999997: [21, 7],\n",
       " 0.6799999999999997: [29, 9],\n",
       " 0.6899999999999997: [19, 7],\n",
       " 0.6999999999999996: [17, 7],\n",
       " 0.7099999999999996: [21, 7],\n",
       " 0.7199999999999996: [22, 8],\n",
       " 0.7299999999999996: [23, 8],\n",
       " 0.7399999999999997: [24, 8],\n",
       " 0.7499999999999997: [24, 8],\n",
       " 0.7599999999999997: [24, 8],\n",
       " 0.7699999999999997: [27, 7],\n",
       " 0.7799999999999997: [25, 6],\n",
       " 0.7899999999999996: [23, 8],\n",
       " 0.7999999999999996: [24, 6],\n",
       " 0.8099999999999996: [26, 6],\n",
       " 0.8199999999999996: [27, 8],\n",
       " 0.8299999999999996: [32, 8],\n",
       " 0.8399999999999996: [33, 6],\n",
       " 0.8499999999999996: [30, 8],\n",
       " 0.8599999999999995: [30, 7],\n",
       " 0.8699999999999996: [27, 5],\n",
       " 0.8799999999999996: [24, 7],\n",
       " 0.8899999999999996: [23, 7],\n",
       " 0.8999999999999996: [22, 7],\n",
       " 0.9099999999999996: [20, 4],\n",
       " 0.9199999999999996: [17, 3],\n",
       " 0.9299999999999996: [16, 3],\n",
       " 0.9399999999999996: [15, 4],\n",
       " 0.9499999999999995: [11, 4],\n",
       " 0.9599999999999995: [11, 4],\n",
       " 0.9699999999999995: [14, 3],\n",
       " 0.9799999999999995: [15, 3],\n",
       " 0.9899999999999995: [16, 3]}"
      ]
     },
     "execution_count": 132,
     "metadata": {},
     "output_type": "execute_result"
    }
   ],
   "source": [
    "n_clusters_dict"
   ]
  },
  {
   "cell_type": "code",
   "execution_count": 153,
   "id": "59d63467",
   "metadata": {},
   "outputs": [
    {
     "name": "stdout",
     "output_type": "stream",
     "text": [
      "Число кластеров 30\n"
     ]
    }
   ],
   "source": [
    "# наилучше параметры (поиск опущен)\n",
    "e = 0.85\n",
    "min_s = 2\n",
    "\n",
    "clustering = DBSCAN(eps=e, min_samples=min_s, metric = 'precomputed').fit(dist_matrix)\n",
    "labels = clustering.labels_\n",
    "\n",
    "print('Число кластеров '+str(len(set(labels))))"
   ]
  },
  {
   "cell_type": "code",
   "execution_count": 184,
   "id": "47d731ce",
   "metadata": {},
   "outputs": [],
   "source": [
    "train_norm_df_2 = train_norm_df.copy()\n",
    "train_norm_df_2['label'] = labels \n",
    "\n",
    "sub_df = train_norm_df_2[train_norm_df_2['label'].isin(actual_labels)]"
   ]
  },
  {
   "cell_type": "markdown",
   "id": "bf8fdc16",
   "metadata": {},
   "source": [
    "#### для каждого кластера считаем компактность, берем кластера с компактностью менее metic_border"
   ]
  },
  {
   "cell_type": "code",
   "execution_count": 235,
   "id": "67ac5868",
   "metadata": {},
   "outputs": [],
   "source": [
    "metic_border = 0.11"
   ]
  },
  {
   "cell_type": "code",
   "execution_count": 188,
   "id": "2a1c594a",
   "metadata": {},
   "outputs": [],
   "source": [
    "metic_dict = {}\n",
    "for i in set(list(train_norm_df_2['label'])):\n",
    "    sub_df = train_norm_df_2[train_norm_df_2['label']==i]\n",
    "    metric = calc_RMSSTD(sub_df[feature_train_columns],sub_df['label'])\n",
    "    metic_dict[i] = np.round(metric,2)"
   ]
  },
  {
   "cell_type": "code",
   "execution_count": 236,
   "id": "e91eb7b4",
   "metadata": {},
   "outputs": [],
   "source": [
    "good_clusters = []\n",
    "\n",
    "for i in metic_dict:\n",
    "    if metic_dict[i] < metic_border:\n",
    "        good_clusters.append(i)"
   ]
  },
  {
   "cell_type": "code",
   "execution_count": 237,
   "id": "9c6fc91e",
   "metadata": {},
   "outputs": [
    {
     "data": {
      "text/plain": [
       "[1, 2, 5, 6, 7, 8, 9, 12, 13, 14, 15, 16, 18, 20, 21, 23, 24, 25, 26, 27, 28]"
      ]
     },
     "execution_count": 237,
     "metadata": {},
     "output_type": "execute_result"
    }
   ],
   "source": [
    "good_clusters"
   ]
  },
  {
   "cell_type": "code",
   "execution_count": 238,
   "id": "6fce4571",
   "metadata": {},
   "outputs": [],
   "source": [
    "train_df_2 = train_df.copy()\n",
    "train_df_2['label'] = labels\n",
    "train_df_2['good_cluster'] = 0\n",
    "train_df_2.loc[train_df_2['label'].isin(good_clusters),'good_cluster'] = 1"
   ]
  },
  {
   "cell_type": "code",
   "execution_count": 239,
   "id": "052d883c",
   "metadata": {},
   "outputs": [],
   "source": [
    "train_df_2.to_csv('train_and_clusters.csv', index = False)"
   ]
  },
  {
   "cell_type": "markdown",
   "id": "7cabd546",
   "metadata": {},
   "source": [
    "далее попробуем протестировать эти результаты на стратегии"
   ]
  },
  {
   "cell_type": "code",
   "execution_count": null,
   "id": "58cf6c7a",
   "metadata": {},
   "outputs": [],
   "source": []
  }
 ],
 "metadata": {
  "kernelspec": {
   "display_name": "Python 3 (ipykernel)",
   "language": "python",
   "name": "python3"
  },
  "language_info": {
   "codemirror_mode": {
    "name": "ipython",
    "version": 3
   },
   "file_extension": ".py",
   "mimetype": "text/x-python",
   "name": "python",
   "nbconvert_exporter": "python",
   "pygments_lexer": "ipython3",
   "version": "3.8.12"
  }
 },
 "nbformat": 4,
 "nbformat_minor": 5
}
