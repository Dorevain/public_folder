{
 "cells": [
  {
   "cell_type": "code",
   "execution_count": 1,
   "id": "4cf81bc2",
   "metadata": {},
   "outputs": [],
   "source": [
    "#импорт необходимых библиотек\n",
    "\n",
    "import numpy as np\n",
    "import pandas as pd\n",
    "import os\n",
    "import time\n",
    "import datetime\n",
    "from random import randint, seed\n",
    "\n",
    "import seaborn as sns\n",
    "import matplotlib.pyplot as plt\n",
    "\n",
    "from tslearn.clustering import TimeSeriesKMeans, silhouette_score\n",
    "\n",
    "from core_changed import Backtest, PlotPoint, IStrategy\n",
    "from multiprocessing import Pool\n",
    "from math import log\n",
    "from datetime import datetime"
   ]
  },
  {
   "cell_type": "code",
   "execution_count": 4,
   "id": "20820453",
   "metadata": {},
   "outputs": [],
   "source": [
    "def fill_na_custom_long(ts, border):\n",
    "    \n",
    "    # функция заполенения пропущенных значений. Принимает ряд и максимальную длину куска Nan в ряде\n",
    "    # заполняет найденные куски линейной интерполяцией соседних значений. Если Nan на границе ряда - не учитывает их.\n",
    "    size = list(np.arange(1,border+1))\n",
    "\n",
    "\n",
    "    for i in size:\n",
    "        flag_list = list()\n",
    "        for j in range(0,len(ts[:(-1)*i])):\n",
    "\n",
    "            el_flag = check_el(ts, j, i)\n",
    "            flag_list.append(el_flag)\n",
    "\n",
    "        flag_list = flag_list\n",
    "\n",
    "        for j in range(0,len(flag_list)):\n",
    "            if flag_list[j] == True:\n",
    "                step = (ts[j+i] - ts[j-1])/(i+1)\n",
    "                for k in range(0,i):\n",
    "                    ts[j+k] = np.round(ts[j-1]+step*(k+1),2)\n",
    "                \n",
    "                \n",
    "    return ts"
   ]
  },
  {
   "cell_type": "code",
   "execution_count": 5,
   "id": "1561b9dc",
   "metadata": {},
   "outputs": [],
   "source": [
    "def check_el(ts, num_el, length):\n",
    "    \n",
    "    # функция поиска кусков Nan в ряде. Принимает ряд, номер элемента в ряде и число length последующих элементов\n",
    "    # Если элемент и все length следующих элементов nan, а length+1 не Nan, возвращает True\n",
    "    # В остальных возвращает False. Не оптимизирована (при вылете за индексацию списка будет падать)\n",
    "    \n",
    "    if ts[num_el]!=ts[num_el]:\n",
    "        if ts[num_el-1]==ts[num_el-1]:\n",
    "            sub_list = ts[num_el:num_el+length]\n",
    "            sub_list_flag = [i!=i for i in sub_list]\n",
    "            end_check = (ts[num_el+length]==ts[num_el+length])\n",
    "            if all(sub_list_flag) and end_check:\n",
    "                return True\n",
    "            else:\n",
    "                return False\n",
    "\n",
    "\n",
    "        else:\n",
    "            return False\n",
    "    else:\n",
    "        return False"
   ]
  },
  {
   "cell_type": "code",
   "execution_count": 6,
   "id": "a2121530",
   "metadata": {},
   "outputs": [],
   "source": [
    "def cacl_Nan_col(df, pr, return_Flag = True):\n",
    "    # кастомная функция подсчета Nan в колонках. Возвращает список колонок для удаления (если флаг True), или \n",
    "    # пишет долю строк с Nan выше pr при флаге False\n",
    "    col_Nan = pd.DataFrame(df.isnull().sum(axis = 0),columns=['Nan'])\n",
    "    res = len(col_Nan[col_Nan['Nan'] > pr * len(df)])\n",
    "    \n",
    "    \n",
    "    if return_Flag == True:\n",
    "        return list(col_Nan[col_Nan['Nan'] > pr * len(df)].index)\n",
    "    else:\n",
    "        print('В '+str(res)+' колонках Nan больше '+str(int(pr*100))+'%')"
   ]
  },
  {
   "cell_type": "code",
   "execution_count": 7,
   "id": "8e5ade2c",
   "metadata": {},
   "outputs": [],
   "source": [
    "def fill_na_custom(ts):\n",
    "    \n",
    "    # функция заполнения Nan. Если в ряде Nan одиночное (слева и справа непустые значения), заполняет средним.\n",
    "    # принимает: временной ряд\n",
    "    # возвращает: временной ряд с заполненными (если прошли по условию) Nan\n",
    "    flag_list = [True if ((ts[i]!=ts[i]) & ((ts[i-1]==ts[i-1]) | (ts[i+1]==ts[i+1]))) else False for i in range(1,len(ts)-1)]\n",
    "    flag_list = [False] + flag_list\n",
    "    flag_list = flag_list + [False]\n",
    "    ts = [ts[i] if flag_list[i]==False else (ts[i-1]+ts[i+1])/2  for i in range(0,len(ts))]\n",
    "    \n",
    "    return ts"
   ]
  },
  {
   "cell_type": "code",
   "execution_count": 8,
   "id": "fd84b376",
   "metadata": {},
   "outputs": [],
   "source": [
    "def fill_na_custom_long(ts, border):\n",
    "    \n",
    "    # функция заполнения Nan. Если в ряде есть отрезок Nan <= border (слева и справа непустые значения), \n",
    "    # заполняет интерполяцией крайних значений.\n",
    "    # принимает: временной ряд\n",
    "    # возвращает: временной ряд с заполненными (если прошли по условию) Nan\n",
    "    flag_list = [True if ((ts[i]!=ts[i]) & ((ts[i-1]==ts[i-1]) | (ts[i+1]==ts[i+1]))) else False for i in range(1,len(ts)-1)]\n",
    "    flag_list = [False] + flag_list\n",
    "    flag_list = flag_list + [False]\n",
    "    ts = [ts[i] if flag_list[i]==False else (ts[i-1]+ts[i+1])/2  for i in range(0,len(ts))]\n",
    "    \n",
    "    return ts"
   ]
  },
  {
   "cell_type": "code",
   "execution_count": 9,
   "id": "a6899020",
   "metadata": {},
   "outputs": [],
   "source": [
    "def cacl_Nan_row(df, pr, return_Flag = True):\n",
    "    # кастомная функция подсчета Nan в строках. Возвращает список строк для удаления (если флаг True), или \n",
    "    # пишет долю строк с Nan выше pr при флаге False\n",
    "    row_Nan = pd.DataFrame(df.isnull().sum(axis = 1),columns=['Nan'])\n",
    "    res = len(row_Nan[row_Nan['Nan'] > pr * len(df.columns)])\n",
    "    \n",
    "    \n",
    "    if return_Flag == True:\n",
    "        return list(row_Nan[row_Nan['Nan'] > pr * len(df.columns)].index)\n",
    "    else:\n",
    "        print('В '+str(res)+' строках Nan больше '+str(int(pr*100))+'%')"
   ]
  },
  {
   "cell_type": "code",
   "execution_count": 25,
   "id": "932bcb31",
   "metadata": {},
   "outputs": [],
   "source": [
    "total_df = pd.read_csv('china_close_total.csv')\n",
    "\n",
    "\n",
    "total_df = total_df.rename({'Index':'Datetime'}, axis = 1)\n",
    "\n",
    "total_df.sort_values(by='Datetime', inplace=True)\n",
    "total_df = total_df.reset_index(drop=True)"
   ]
  },
  {
   "cell_type": "markdown",
   "id": "d4bdc869",
   "metadata": {},
   "source": [
    "##### места, где длина пропуска <=5 заменим линейной апроксимацией"
   ]
  },
  {
   "cell_type": "code",
   "execution_count": 27,
   "id": "cbeeb2de",
   "metadata": {},
   "outputs": [],
   "source": [
    "for i in list(total_df.columns)[1:]:\n",
    "    ts = list(total_df[i])\n",
    "    ts = fill_na_custom_long(ts, 5)\n",
    "    total_df[i] = ts"
   ]
  },
  {
   "cell_type": "markdown",
   "id": "e4c1c82b",
   "metadata": {},
   "source": [
    "построим график зависимости числа пропусков от даты"
   ]
  },
  {
   "cell_type": "code",
   "execution_count": 28,
   "id": "f93f0487",
   "metadata": {},
   "outputs": [
    {
     "data": {
      "text/plain": [
       "Text(0, 0.5, 'Число Nan')"
      ]
     },
     "execution_count": 28,
     "metadata": {},
     "output_type": "execute_result"
    },
    {
     "data": {
      "image/png": "[encoded data removed]",
      "text/plain": [
       "<Figure size 640x480 with 1 Axes>"
      ]
     },
     "metadata": {},
     "output_type": "display_data"
    }
   ],
   "source": [
    "sub_df = pd.DataFrame(total_df.isnull().sum(axis = 1))\n",
    "x = list(sub_df.index)\n",
    "y = list(sub_df[0])\n",
    "\n",
    "fig, ax = plt.subplots()\n",
    "ax.plot(x,y)\n",
    "plt.xlabel('Дата' , size=16)\n",
    "plt.grid()\n",
    "plt.ylabel('Число Nan', size=16)"
   ]
  },
  {
   "cell_type": "code",
   "execution_count": 29,
   "id": "287e4ec4",
   "metadata": {},
   "outputs": [],
   "source": [
    "border = 5400"
   ]
  },
  {
   "cell_type": "code",
   "execution_count": 30,
   "id": "4be00d92",
   "metadata": {},
   "outputs": [
    {
     "data": {
      "text/html": [
       "<div>\n",
       "<style scoped>\n",
       "    .dataframe tbody tr th:only-of-type {\n",
       "        vertical-align: middle;\n",
       "    }\n",
       "\n",
       "    .dataframe tbody tr th {\n",
       "        vertical-align: top;\n",
       "    }\n",
       "\n",
       "    .dataframe thead th {\n",
       "        text-align: right;\n",
       "    }\n",
       "</style>\n",
       "<table border=\"1\" class=\"dataframe\">\n",
       "  <thead>\n",
       "    <tr style=\"text-align: right;\">\n",
       "      <th></th>\n",
       "      <th>0</th>\n",
       "    </tr>\n",
       "  </thead>\n",
       "  <tbody>\n",
       "    <tr>\n",
       "      <th>5400</th>\n",
       "      <td>2785</td>\n",
       "    </tr>\n",
       "  </tbody>\n",
       "</table>\n",
       "</div>"
      ],
      "text/plain": [
       "         0\n",
       "5400  2785"
      ]
     },
     "execution_count": 30,
     "metadata": {},
     "output_type": "execute_result"
    }
   ],
   "source": [
    "sub_df[sub_df.index == border]"
   ]
  },
  {
   "cell_type": "code",
   "execution_count": 31,
   "id": "dc623dc2",
   "metadata": {},
   "outputs": [
    {
     "data": {
      "text/plain": [
       "5400    2012-10-08 00:00:00\n",
       "Name: Datetime, dtype: object"
      ]
     },
     "execution_count": 31,
     "metadata": {},
     "output_type": "execute_result"
    }
   ],
   "source": [
    "total_df[total_df.index == border]['Datetime']"
   ]
  },
  {
   "cell_type": "markdown",
   "id": "74eddfc6",
   "metadata": {},
   "source": [
    "##### видно, что в начале очень много пропусков. Возьмем даты >= 5400 (2012-10-08 и позже)"
   ]
  },
  {
   "cell_type": "code",
   "execution_count": 32,
   "id": "99c531f1",
   "metadata": {},
   "outputs": [],
   "source": [
    "total_df = total_df[total_df['Datetime']>='2012-10-08']\n",
    "total_df = total_df.reset_index(drop=True)\n",
    "\n",
    "start_date = list(total_df['Datetime'])"
   ]
  },
  {
   "cell_type": "code",
   "execution_count": 33,
   "id": "90898325",
   "metadata": {},
   "outputs": [
    {
     "data": {
      "text/html": [
       "<div>\n",
       "<style scoped>\n",
       "    .dataframe tbody tr th:only-of-type {\n",
       "        vertical-align: middle;\n",
       "    }\n",
       "\n",
       "    .dataframe tbody tr th {\n",
       "        vertical-align: top;\n",
       "    }\n",
       "\n",
       "    .dataframe thead th {\n",
       "        text-align: right;\n",
       "    }\n",
       "</style>\n",
       "<table border=\"1\" class=\"dataframe\">\n",
       "  <thead>\n",
       "    <tr style=\"text-align: right;\">\n",
       "      <th></th>\n",
       "      <th>Datetime</th>\n",
       "      <th>000001</th>\n",
       "      <th>000002</th>\n",
       "      <th>000003</th>\n",
       "      <th>000004</th>\n",
       "      <th>000005</th>\n",
       "      <th>000006</th>\n",
       "      <th>000007</th>\n",
       "      <th>000008</th>\n",
       "      <th>000009</th>\n",
       "      <th>...</th>\n",
       "      <th>871396</th>\n",
       "      <th>871553</th>\n",
       "      <th>871642</th>\n",
       "      <th>871857</th>\n",
       "      <th>871970</th>\n",
       "      <th>871981</th>\n",
       "      <th>872925</th>\n",
       "      <th>873122</th>\n",
       "      <th>873169</th>\n",
       "      <th>873223</th>\n",
       "    </tr>\n",
       "  </thead>\n",
       "  <tbody>\n",
       "    <tr>\n",
       "      <th>0</th>\n",
       "      <td>2012-10-08 00:00:00</td>\n",
       "      <td>3.18</td>\n",
       "      <td>0.37</td>\n",
       "      <td>NaN</td>\n",
       "      <td>8.19</td>\n",
       "      <td>2.82</td>\n",
       "      <td>NaN</td>\n",
       "      <td>10.87</td>\n",
       "      <td>1.17</td>\n",
       "      <td>3.80</td>\n",
       "      <td>...</td>\n",
       "      <td>NaN</td>\n",
       "      <td>NaN</td>\n",
       "      <td>NaN</td>\n",
       "      <td>NaN</td>\n",
       "      <td>NaN</td>\n",
       "      <td>NaN</td>\n",
       "      <td>NaN</td>\n",
       "      <td>NaN</td>\n",
       "      <td>NaN</td>\n",
       "      <td>NaN</td>\n",
       "    </tr>\n",
       "    <tr>\n",
       "      <th>1</th>\n",
       "      <td>2012-10-09 00:00:00</td>\n",
       "      <td>3.30</td>\n",
       "      <td>0.57</td>\n",
       "      <td>NaN</td>\n",
       "      <td>8.38</td>\n",
       "      <td>2.88</td>\n",
       "      <td>NaN</td>\n",
       "      <td>10.96</td>\n",
       "      <td>1.18</td>\n",
       "      <td>3.90</td>\n",
       "      <td>...</td>\n",
       "      <td>NaN</td>\n",
       "      <td>NaN</td>\n",
       "      <td>NaN</td>\n",
       "      <td>NaN</td>\n",
       "      <td>NaN</td>\n",
       "      <td>NaN</td>\n",
       "      <td>NaN</td>\n",
       "      <td>NaN</td>\n",
       "      <td>NaN</td>\n",
       "      <td>NaN</td>\n",
       "    </tr>\n",
       "    <tr>\n",
       "      <th>2</th>\n",
       "      <td>2012-10-10 00:00:00</td>\n",
       "      <td>3.30</td>\n",
       "      <td>0.57</td>\n",
       "      <td>NaN</td>\n",
       "      <td>8.50</td>\n",
       "      <td>2.94</td>\n",
       "      <td>NaN</td>\n",
       "      <td>11.33</td>\n",
       "      <td>1.18</td>\n",
       "      <td>3.92</td>\n",
       "      <td>...</td>\n",
       "      <td>NaN</td>\n",
       "      <td>NaN</td>\n",
       "      <td>NaN</td>\n",
       "      <td>NaN</td>\n",
       "      <td>NaN</td>\n",
       "      <td>NaN</td>\n",
       "      <td>NaN</td>\n",
       "      <td>NaN</td>\n",
       "      <td>NaN</td>\n",
       "      <td>NaN</td>\n",
       "    </tr>\n",
       "    <tr>\n",
       "      <th>3</th>\n",
       "      <td>2012-10-11 00:00:00</td>\n",
       "      <td>3.28</td>\n",
       "      <td>0.50</td>\n",
       "      <td>NaN</td>\n",
       "      <td>8.25</td>\n",
       "      <td>2.88</td>\n",
       "      <td>NaN</td>\n",
       "      <td>11.20</td>\n",
       "      <td>1.21</td>\n",
       "      <td>3.82</td>\n",
       "      <td>...</td>\n",
       "      <td>NaN</td>\n",
       "      <td>NaN</td>\n",
       "      <td>NaN</td>\n",
       "      <td>NaN</td>\n",
       "      <td>NaN</td>\n",
       "      <td>NaN</td>\n",
       "      <td>NaN</td>\n",
       "      <td>NaN</td>\n",
       "      <td>NaN</td>\n",
       "      <td>NaN</td>\n",
       "    </tr>\n",
       "    <tr>\n",
       "      <th>4</th>\n",
       "      <td>2012-10-12 00:00:00</td>\n",
       "      <td>3.30</td>\n",
       "      <td>0.45</td>\n",
       "      <td>NaN</td>\n",
       "      <td>8.26</td>\n",
       "      <td>2.90</td>\n",
       "      <td>NaN</td>\n",
       "      <td>11.30</td>\n",
       "      <td>1.21</td>\n",
       "      <td>3.87</td>\n",
       "      <td>...</td>\n",
       "      <td>NaN</td>\n",
       "      <td>NaN</td>\n",
       "      <td>NaN</td>\n",
       "      <td>NaN</td>\n",
       "      <td>NaN</td>\n",
       "      <td>NaN</td>\n",
       "      <td>NaN</td>\n",
       "      <td>NaN</td>\n",
       "      <td>NaN</td>\n",
       "      <td>NaN</td>\n",
       "    </tr>\n",
       "    <tr>\n",
       "      <th>...</th>\n",
       "      <td>...</td>\n",
       "      <td>...</td>\n",
       "      <td>...</td>\n",
       "      <td>...</td>\n",
       "      <td>...</td>\n",
       "      <td>...</td>\n",
       "      <td>...</td>\n",
       "      <td>...</td>\n",
       "      <td>...</td>\n",
       "      <td>...</td>\n",
       "      <td>...</td>\n",
       "      <td>...</td>\n",
       "      <td>...</td>\n",
       "      <td>...</td>\n",
       "      <td>...</td>\n",
       "      <td>...</td>\n",
       "      <td>...</td>\n",
       "      <td>...</td>\n",
       "      <td>...</td>\n",
       "      <td>...</td>\n",
       "      <td>...</td>\n",
       "    </tr>\n",
       "    <tr>\n",
       "      <th>2435</th>\n",
       "      <td>2022-10-14 00:00:00</td>\n",
       "      <td>11.53</td>\n",
       "      <td>17.02</td>\n",
       "      <td>NaN</td>\n",
       "      <td>8.55</td>\n",
       "      <td>1.72</td>\n",
       "      <td>NaN</td>\n",
       "      <td>7.94</td>\n",
       "      <td>2.27</td>\n",
       "      <td>12.63</td>\n",
       "      <td>...</td>\n",
       "      <td>7.62</td>\n",
       "      <td>3.46</td>\n",
       "      <td>6.76</td>\n",
       "      <td>8.78</td>\n",
       "      <td>9.08</td>\n",
       "      <td>14.56</td>\n",
       "      <td>16.11</td>\n",
       "      <td>11.39</td>\n",
       "      <td>6.68</td>\n",
       "      <td>3.97</td>\n",
       "    </tr>\n",
       "    <tr>\n",
       "      <th>2436</th>\n",
       "      <td>2022-10-17 00:00:00</td>\n",
       "      <td>11.48</td>\n",
       "      <td>16.60</td>\n",
       "      <td>NaN</td>\n",
       "      <td>8.80</td>\n",
       "      <td>1.73</td>\n",
       "      <td>NaN</td>\n",
       "      <td>7.93</td>\n",
       "      <td>2.29</td>\n",
       "      <td>12.50</td>\n",
       "      <td>...</td>\n",
       "      <td>7.60</td>\n",
       "      <td>3.51</td>\n",
       "      <td>7.03</td>\n",
       "      <td>8.86</td>\n",
       "      <td>9.15</td>\n",
       "      <td>14.57</td>\n",
       "      <td>16.03</td>\n",
       "      <td>11.53</td>\n",
       "      <td>6.90</td>\n",
       "      <td>3.92</td>\n",
       "    </tr>\n",
       "    <tr>\n",
       "      <th>2437</th>\n",
       "      <td>2022-10-18 00:00:00</td>\n",
       "      <td>11.48</td>\n",
       "      <td>16.38</td>\n",
       "      <td>NaN</td>\n",
       "      <td>8.83</td>\n",
       "      <td>1.74</td>\n",
       "      <td>NaN</td>\n",
       "      <td>7.92</td>\n",
       "      <td>2.40</td>\n",
       "      <td>12.82</td>\n",
       "      <td>...</td>\n",
       "      <td>7.63</td>\n",
       "      <td>3.49</td>\n",
       "      <td>6.97</td>\n",
       "      <td>8.85</td>\n",
       "      <td>9.10</td>\n",
       "      <td>14.62</td>\n",
       "      <td>15.62</td>\n",
       "      <td>13.02</td>\n",
       "      <td>7.04</td>\n",
       "      <td>4.03</td>\n",
       "    </tr>\n",
       "    <tr>\n",
       "      <th>2438</th>\n",
       "      <td>2022-10-19 00:00:00</td>\n",
       "      <td>11.29</td>\n",
       "      <td>16.17</td>\n",
       "      <td>NaN</td>\n",
       "      <td>8.70</td>\n",
       "      <td>1.71</td>\n",
       "      <td>NaN</td>\n",
       "      <td>7.90</td>\n",
       "      <td>2.33</td>\n",
       "      <td>12.54</td>\n",
       "      <td>...</td>\n",
       "      <td>7.63</td>\n",
       "      <td>3.49</td>\n",
       "      <td>6.81</td>\n",
       "      <td>8.85</td>\n",
       "      <td>9.05</td>\n",
       "      <td>14.21</td>\n",
       "      <td>15.76</td>\n",
       "      <td>12.45</td>\n",
       "      <td>6.78</td>\n",
       "      <td>3.94</td>\n",
       "    </tr>\n",
       "    <tr>\n",
       "      <th>2439</th>\n",
       "      <td>2022-10-20 00:00:00</td>\n",
       "      <td>11.20</td>\n",
       "      <td>16.12</td>\n",
       "      <td>NaN</td>\n",
       "      <td>8.64</td>\n",
       "      <td>1.72</td>\n",
       "      <td>NaN</td>\n",
       "      <td>7.88</td>\n",
       "      <td>2.32</td>\n",
       "      <td>12.27</td>\n",
       "      <td>...</td>\n",
       "      <td>7.78</td>\n",
       "      <td>3.48</td>\n",
       "      <td>6.82</td>\n",
       "      <td>8.77</td>\n",
       "      <td>9.00</td>\n",
       "      <td>14.33</td>\n",
       "      <td>15.70</td>\n",
       "      <td>13.33</td>\n",
       "      <td>6.82</td>\n",
       "      <td>3.85</td>\n",
       "    </tr>\n",
       "  </tbody>\n",
       "</table>\n",
       "<p>2440 rows × 5168 columns</p>\n",
       "</div>"
      ],
      "text/plain": [
       "                 Datetime  000001  000002  000003  000004  000005  000006  \\\n",
       "0     2012-10-08 00:00:00    3.18    0.37     NaN    8.19    2.82     NaN   \n",
       "1     2012-10-09 00:00:00    3.30    0.57     NaN    8.38    2.88     NaN   \n",
       "2     2012-10-10 00:00:00    3.30    0.57     NaN    8.50    2.94     NaN   \n",
       "3     2012-10-11 00:00:00    3.28    0.50     NaN    8.25    2.88     NaN   \n",
       "4     2012-10-12 00:00:00    3.30    0.45     NaN    8.26    2.90     NaN   \n",
       "...                   ...     ...     ...     ...     ...     ...     ...   \n",
       "2435  2022-10-14 00:00:00   11.53   17.02     NaN    8.55    1.72     NaN   \n",
       "2436  2022-10-17 00:00:00   11.48   16.60     NaN    8.80    1.73     NaN   \n",
       "2437  2022-10-18 00:00:00   11.48   16.38     NaN    8.83    1.74     NaN   \n",
       "2438  2022-10-19 00:00:00   11.29   16.17     NaN    8.70    1.71     NaN   \n",
       "2439  2022-10-20 00:00:00   11.20   16.12     NaN    8.64    1.72     NaN   \n",
       "\n",
       "      000007  000008  000009  ...  871396  871553  871642  871857  871970  \\\n",
       "0      10.87    1.17    3.80  ...     NaN     NaN     NaN     NaN     NaN   \n",
       "1      10.96    1.18    3.90  ...     NaN     NaN     NaN     NaN     NaN   \n",
       "2      11.33    1.18    3.92  ...     NaN     NaN     NaN     NaN     NaN   \n",
       "3      11.20    1.21    3.82  ...     NaN     NaN     NaN     NaN     NaN   \n",
       "4      11.30    1.21    3.87  ...     NaN     NaN     NaN     NaN     NaN   \n",
       "...      ...     ...     ...  ...     ...     ...     ...     ...     ...   \n",
       "2435    7.94    2.27   12.63  ...    7.62    3.46    6.76    8.78    9.08   \n",
       "2436    7.93    2.29   12.50  ...    7.60    3.51    7.03    8.86    9.15   \n",
       "2437    7.92    2.40   12.82  ...    7.63    3.49    6.97    8.85    9.10   \n",
       "2438    7.90    2.33   12.54  ...    7.63    3.49    6.81    8.85    9.05   \n",
       "2439    7.88    2.32   12.27  ...    7.78    3.48    6.82    8.77    9.00   \n",
       "\n",
       "      871981  872925  873122  873169  873223  \n",
       "0        NaN     NaN     NaN     NaN     NaN  \n",
       "1        NaN     NaN     NaN     NaN     NaN  \n",
       "2        NaN     NaN     NaN     NaN     NaN  \n",
       "3        NaN     NaN     NaN     NaN     NaN  \n",
       "4        NaN     NaN     NaN     NaN     NaN  \n",
       "...      ...     ...     ...     ...     ...  \n",
       "2435   14.56   16.11   11.39    6.68    3.97  \n",
       "2436   14.57   16.03   11.53    6.90    3.92  \n",
       "2437   14.62   15.62   13.02    7.04    4.03  \n",
       "2438   14.21   15.76   12.45    6.78    3.94  \n",
       "2439   14.33   15.70   13.33    6.82    3.85  \n",
       "\n",
       "[2440 rows x 5168 columns]"
      ]
     },
     "execution_count": 33,
     "metadata": {},
     "output_type": "execute_result"
    }
   ],
   "source": [
    "total_df"
   ]
  },
  {
   "cell_type": "markdown",
   "id": "c9cfdeb0",
   "metadata": {},
   "source": [
    "##### посмотрим, сколько Nan по колонкам (1)"
   ]
  },
  {
   "cell_type": "code",
   "execution_count": 34,
   "id": "b639c4ba",
   "metadata": {},
   "outputs": [
    {
     "name": "stdout",
     "output_type": "stream",
     "text": [
      "В 3109 колонках Nan больше 10%\n"
     ]
    }
   ],
   "source": [
    "cacl_Nan_col(total_df, 0.1, return_Flag = False)"
   ]
  },
  {
   "cell_type": "code",
   "execution_count": 35,
   "id": "617676da",
   "metadata": {},
   "outputs": [],
   "source": [
    "del_col_list = cacl_Nan_col(total_df, 0.1)\n",
    "total_df.drop(columns = del_col_list,axis = 1, inplace=True)"
   ]
  },
  {
   "cell_type": "markdown",
   "id": "c703eeb9",
   "metadata": {},
   "source": [
    "##### теперь чистим по строкам (1)"
   ]
  },
  {
   "cell_type": "code",
   "execution_count": 36,
   "id": "82213e81",
   "metadata": {},
   "outputs": [
    {
     "name": "stdout",
     "output_type": "stream",
     "text": [
      "В 146 строках Nan больше 10%\n"
     ]
    }
   ],
   "source": [
    "cacl_Nan_row(total_df, 0.1, return_Flag = False)"
   ]
  },
  {
   "cell_type": "markdown",
   "id": "9c647859",
   "metadata": {},
   "source": [
    "удалим строки с Nan более 10%"
   ]
  },
  {
   "cell_type": "code",
   "execution_count": 37,
   "id": "9b7b5188",
   "metadata": {},
   "outputs": [],
   "source": [
    "bad_index = cacl_Nan_row(total_df, 0.1)\n",
    "total_df = total_df.drop(index=bad_index)\n",
    "total_df = total_df.reset_index(drop = True)"
   ]
  },
  {
   "cell_type": "markdown",
   "id": "36677c2c",
   "metadata": {},
   "source": [
    "##### снова пройдемся по данным, в случаях где длина пропуска <=3, заместим средним (2)"
   ]
  },
  {
   "cell_type": "code",
   "execution_count": 38,
   "id": "18a4de13",
   "metadata": {},
   "outputs": [],
   "source": [
    "for i in list(total_df.columns)[1:]:\n",
    "    ts = list(total_df[i])\n",
    "    ts = fill_na_custom_long(ts, 3)\n",
    "    total_df[i] = ts"
   ]
  },
  {
   "cell_type": "markdown",
   "id": "0ae92fcc",
   "metadata": {},
   "source": [
    "##### снова почистим колонки (2)"
   ]
  },
  {
   "cell_type": "code",
   "execution_count": 39,
   "id": "624fbf43",
   "metadata": {},
   "outputs": [
    {
     "name": "stdout",
     "output_type": "stream",
     "text": [
      "В 449 колонках Nan больше 5%\n"
     ]
    }
   ],
   "source": [
    "cacl_Nan_col(total_df, 0.05,  return_Flag = False)"
   ]
  },
  {
   "cell_type": "code",
   "execution_count": 40,
   "id": "8e327d80",
   "metadata": {},
   "outputs": [],
   "source": [
    "# снова удалим колонки с Nan больше 5%\n",
    "del_col_list = cacl_Nan_col(total_df, 0.05)\n",
    "total_df.drop(columns = del_col_list,axis = 1, inplace=True)"
   ]
  },
  {
   "cell_type": "markdown",
   "id": "75a99cc4",
   "metadata": {},
   "source": [
    "##### снова почистим строки (2)"
   ]
  },
  {
   "cell_type": "code",
   "execution_count": 41,
   "id": "29172df5",
   "metadata": {},
   "outputs": [
    {
     "name": "stdout",
     "output_type": "stream",
     "text": [
      "В 106 строках Nan больше 5%\n"
     ]
    }
   ],
   "source": [
    "cacl_Nan_row(total_df, 0.05, return_Flag = False)"
   ]
  },
  {
   "cell_type": "code",
   "execution_count": 42,
   "id": "7ab995a4",
   "metadata": {},
   "outputs": [],
   "source": [
    "# Удаляем строки с Nan более 5%\n",
    "bad_index = cacl_Nan_row(total_df, 0.05)\n",
    "total_df = total_df.drop(index=bad_index)\n",
    "total_df = total_df.reset_index(drop = True)"
   ]
  },
  {
   "cell_type": "code",
   "execution_count": 43,
   "id": "710bc9e8",
   "metadata": {},
   "outputs": [
    {
     "data": {
      "text/plain": [
       "Text(0, 0.5, 'Число Nan')"
      ]
     },
     "execution_count": 43,
     "metadata": {},
     "output_type": "execute_result"
    },
    {
     "data": {
      "image/png": "[encoded data removed]",
      "text/plain": [
       "<Figure size 640x480 with 1 Axes>"
      ]
     },
     "metadata": {},
     "output_type": "display_data"
    }
   ],
   "source": [
    "sub_df = pd.DataFrame(total_df.isnull().sum(axis = 1))\n",
    "x = list(sub_df.index)\n",
    "y = list(sub_df[0])\n",
    "\n",
    "fig, ax = plt.subplots()\n",
    "ax.plot(x,y)\n",
    "plt.xlabel('Дата' , size=16)\n",
    "plt.grid()\n",
    "plt.ylabel('Число Nan', size=16)"
   ]
  },
  {
   "cell_type": "markdown",
   "id": "15bf5a10",
   "metadata": {},
   "source": [
    "##### снова пройдемся по данным, в случаях где длина пропуска <=6, заместим средним (3)"
   ]
  },
  {
   "cell_type": "code",
   "execution_count": 44,
   "id": "b3a04c26",
   "metadata": {},
   "outputs": [],
   "source": [
    "for i in list(total_df.columns)[1:]:\n",
    "    ts = list(total_df[i])\n",
    "    ts = fill_na_custom_long(ts, 6)\n",
    "    total_df[i] = ts"
   ]
  },
  {
   "cell_type": "markdown",
   "id": "a5ab86ec",
   "metadata": {},
   "source": [
    "##### и снова почистим колонки (3)"
   ]
  },
  {
   "cell_type": "code",
   "execution_count": 45,
   "id": "cbd04416",
   "metadata": {},
   "outputs": [
    {
     "name": "stdout",
     "output_type": "stream",
     "text": [
      "В 464 колонках Nan больше 2%\n"
     ]
    }
   ],
   "source": [
    "cacl_Nan_col(total_df, 0.02,  return_Flag = False)"
   ]
  },
  {
   "cell_type": "code",
   "execution_count": 46,
   "id": "1f1add9c",
   "metadata": {},
   "outputs": [],
   "source": [
    "# снова удалим колонки с Nan больше 2%\n",
    "del_col_list = cacl_Nan_col(total_df, 0.02)\n",
    "total_df.drop(columns = del_col_list,axis = 1, inplace=True)"
   ]
  },
  {
   "cell_type": "markdown",
   "id": "2ec71508",
   "metadata": {},
   "source": [
    "##### и снова почистим строки (3)"
   ]
  },
  {
   "cell_type": "code",
   "execution_count": 47,
   "id": "09d4b359",
   "metadata": {},
   "outputs": [
    {
     "name": "stdout",
     "output_type": "stream",
     "text": [
      "В 364 строках Nan больше 1%\n"
     ]
    }
   ],
   "source": [
    "cacl_Nan_row(total_df, 0.01, return_Flag = False)"
   ]
  },
  {
   "cell_type": "code",
   "execution_count": 48,
   "id": "fcc779d7",
   "metadata": {},
   "outputs": [],
   "source": [
    "# Удаляем строки с Nan более 1%\n",
    "bad_index = cacl_Nan_row(total_df, 0.01)\n",
    "total_df = total_df.drop(index=bad_index)\n",
    "total_df = total_df.reset_index(drop = True)"
   ]
  },
  {
   "cell_type": "markdown",
   "id": "a30e7e71",
   "metadata": {},
   "source": [
    "##### снова пройдемся по данным, в случаях где длина пропуска <= 6, заместим средним (4)"
   ]
  },
  {
   "cell_type": "code",
   "execution_count": 49,
   "id": "4a4c0208",
   "metadata": {},
   "outputs": [],
   "source": [
    "for i in list(total_df.columns)[1:]:\n",
    "    ts = list(total_df[i])\n",
    "    ts = fill_na_custom_long(ts, 3)\n",
    "    total_df[i] = ts"
   ]
  },
  {
   "cell_type": "markdown",
   "id": "b15d8fb3",
   "metadata": {},
   "source": [
    "##### и снова почистим колонки (4)"
   ]
  },
  {
   "cell_type": "code",
   "execution_count": 50,
   "id": "a0dc7730",
   "metadata": {},
   "outputs": [
    {
     "name": "stdout",
     "output_type": "stream",
     "text": [
      "В 309 колонках Nan больше 0%\n"
     ]
    }
   ],
   "source": [
    "cacl_Nan_col(total_df, 0.005,  return_Flag = False)"
   ]
  },
  {
   "cell_type": "code",
   "execution_count": 51,
   "id": "e905d057",
   "metadata": {},
   "outputs": [],
   "source": [
    "# снова удалим колонки с Nan больше 0.5%\n",
    "del_col_list = cacl_Nan_col(total_df, 0.005)\n",
    "total_df.drop(columns = del_col_list,axis = 1, inplace=True)"
   ]
  },
  {
   "cell_type": "markdown",
   "id": "a7e14692",
   "metadata": {},
   "source": [
    "проверим число Nan"
   ]
  },
  {
   "cell_type": "code",
   "execution_count": 52,
   "id": "7d6b96ec",
   "metadata": {},
   "outputs": [
    {
     "data": {
      "text/plain": [
       "Text(0, 0.5, 'Число Nan')"
      ]
     },
     "execution_count": 52,
     "metadata": {},
     "output_type": "execute_result"
    },
    {
     "data": {
      "image/png": "[encoded data removed]",
      "text/plain": [
       "<Figure size 640x480 with 1 Axes>"
      ]
     },
     "metadata": {},
     "output_type": "display_data"
    }
   ],
   "source": [
    "sub_df = pd.DataFrame(total_df.isnull().sum(axis = 1))\n",
    "x = list(sub_df.index)\n",
    "y = list(sub_df[0])\n",
    "\n",
    "fig, ax = plt.subplots()\n",
    "ax.plot(x,y)\n",
    "plt.xlabel('Дата' , size=16)\n",
    "plt.grid()\n",
    "plt.ylabel('Число Nan', size=16)"
   ]
  },
  {
   "cell_type": "markdown",
   "id": "f049f68d",
   "metadata": {},
   "source": [
    "##### снова пройдемся по данным, в случаях где длина пропуска <= 5, заместим линейной аппроксимацией. Остальное выкинем"
   ]
  },
  {
   "cell_type": "code",
   "execution_count": 53,
   "id": "1c6a2f82",
   "metadata": {},
   "outputs": [],
   "source": [
    "for i in list(total_df.columns)[1:]:\n",
    "    ts = list(total_df[i])\n",
    "    ts = fill_na_custom_long(ts, 5)\n",
    "    total_df[i] = ts"
   ]
  },
  {
   "cell_type": "code",
   "execution_count": 54,
   "id": "032a78ec",
   "metadata": {},
   "outputs": [
    {
     "data": {
      "text/html": [
       "<div>\n",
       "<style scoped>\n",
       "    .dataframe tbody tr th:only-of-type {\n",
       "        vertical-align: middle;\n",
       "    }\n",
       "\n",
       "    .dataframe tbody tr th {\n",
       "        vertical-align: top;\n",
       "    }\n",
       "\n",
       "    .dataframe thead th {\n",
       "        text-align: right;\n",
       "    }\n",
       "</style>\n",
       "<table border=\"1\" class=\"dataframe\">\n",
       "  <thead>\n",
       "    <tr style=\"text-align: right;\">\n",
       "      <th></th>\n",
       "      <th>Datetime</th>\n",
       "      <th>000001</th>\n",
       "      <th>000005</th>\n",
       "      <th>000011</th>\n",
       "      <th>000012</th>\n",
       "      <th>000014</th>\n",
       "      <th>000021</th>\n",
       "      <th>000026</th>\n",
       "      <th>000027</th>\n",
       "      <th>000039</th>\n",
       "      <th>...</th>\n",
       "      <th>601991</th>\n",
       "      <th>601992</th>\n",
       "      <th>601998</th>\n",
       "      <th>603000</th>\n",
       "      <th>603001</th>\n",
       "      <th>603008</th>\n",
       "      <th>603167</th>\n",
       "      <th>603366</th>\n",
       "      <th>603766</th>\n",
       "      <th>603993</th>\n",
       "    </tr>\n",
       "  </thead>\n",
       "  <tbody>\n",
       "    <tr>\n",
       "      <th>3</th>\n",
       "      <td>2012-10-11 00:00:00</td>\n",
       "      <td>3.28</td>\n",
       "      <td>2.88</td>\n",
       "      <td>3.41</td>\n",
       "      <td>3.48</td>\n",
       "      <td>6.87</td>\n",
       "      <td>4.23</td>\n",
       "      <td>6.39</td>\n",
       "      <td>2.07</td>\n",
       "      <td>3.90</td>\n",
       "      <td>...</td>\n",
       "      <td>3.53</td>\n",
       "      <td>2.33</td>\n",
       "      <td>1.57</td>\n",
       "      <td>9.72</td>\n",
       "      <td>19.74</td>\n",
       "      <td>5.33</td>\n",
       "      <td>6.34</td>\n",
       "      <td>6.29</td>\n",
       "      <td>2.02</td>\n",
       "      <td>2.66</td>\n",
       "    </tr>\n",
       "    <tr>\n",
       "      <th>4</th>\n",
       "      <td>2012-10-12 00:00:00</td>\n",
       "      <td>3.30</td>\n",
       "      <td>2.90</td>\n",
       "      <td>3.41</td>\n",
       "      <td>3.50</td>\n",
       "      <td>6.79</td>\n",
       "      <td>4.26</td>\n",
       "      <td>6.24</td>\n",
       "      <td>2.03</td>\n",
       "      <td>3.86</td>\n",
       "      <td>...</td>\n",
       "      <td>3.53</td>\n",
       "      <td>2.35</td>\n",
       "      <td>1.59</td>\n",
       "      <td>9.57</td>\n",
       "      <td>19.43</td>\n",
       "      <td>5.22</td>\n",
       "      <td>6.38</td>\n",
       "      <td>6.17</td>\n",
       "      <td>1.98</td>\n",
       "      <td>2.46</td>\n",
       "    </tr>\n",
       "    <tr>\n",
       "      <th>10</th>\n",
       "      <td>2012-10-22 00:00:00</td>\n",
       "      <td>3.40</td>\n",
       "      <td>2.95</td>\n",
       "      <td>3.67</td>\n",
       "      <td>3.70</td>\n",
       "      <td>7.21</td>\n",
       "      <td>4.18</td>\n",
       "      <td>6.32</td>\n",
       "      <td>2.04</td>\n",
       "      <td>3.92</td>\n",
       "      <td>...</td>\n",
       "      <td>3.50</td>\n",
       "      <td>2.47</td>\n",
       "      <td>1.64</td>\n",
       "      <td>10.12</td>\n",
       "      <td>19.72</td>\n",
       "      <td>5.16</td>\n",
       "      <td>6.29</td>\n",
       "      <td>6.27</td>\n",
       "      <td>2.08</td>\n",
       "      <td>2.27</td>\n",
       "    </tr>\n",
       "    <tr>\n",
       "      <th>19</th>\n",
       "      <td>2012-11-02 00:00:00</td>\n",
       "      <td>3.43</td>\n",
       "      <td>3.08</td>\n",
       "      <td>4.10</td>\n",
       "      <td>3.66</td>\n",
       "      <td>7.03</td>\n",
       "      <td>4.12</td>\n",
       "      <td>5.95</td>\n",
       "      <td>1.98</td>\n",
       "      <td>3.90</td>\n",
       "      <td>...</td>\n",
       "      <td>3.30</td>\n",
       "      <td>2.55</td>\n",
       "      <td>1.57</td>\n",
       "      <td>9.86</td>\n",
       "      <td>17.57</td>\n",
       "      <td>5.39</td>\n",
       "      <td>5.84</td>\n",
       "      <td>5.54</td>\n",
       "      <td>1.88</td>\n",
       "      <td>2.23</td>\n",
       "    </tr>\n",
       "    <tr>\n",
       "      <th>20</th>\n",
       "      <td>2012-11-05 00:00:00</td>\n",
       "      <td>3.46</td>\n",
       "      <td>2.98</td>\n",
       "      <td>3.89</td>\n",
       "      <td>3.66</td>\n",
       "      <td>6.71</td>\n",
       "      <td>4.08</td>\n",
       "      <td>6.10</td>\n",
       "      <td>2.01</td>\n",
       "      <td>3.91</td>\n",
       "      <td>...</td>\n",
       "      <td>3.32</td>\n",
       "      <td>2.57</td>\n",
       "      <td>1.57</td>\n",
       "      <td>9.75</td>\n",
       "      <td>17.34</td>\n",
       "      <td>5.17</td>\n",
       "      <td>5.83</td>\n",
       "      <td>5.48</td>\n",
       "      <td>1.90</td>\n",
       "      <td>2.15</td>\n",
       "    </tr>\n",
       "    <tr>\n",
       "      <th>...</th>\n",
       "      <td>...</td>\n",
       "      <td>...</td>\n",
       "      <td>...</td>\n",
       "      <td>...</td>\n",
       "      <td>...</td>\n",
       "      <td>...</td>\n",
       "      <td>...</td>\n",
       "      <td>...</td>\n",
       "      <td>...</td>\n",
       "      <td>...</td>\n",
       "      <td>...</td>\n",
       "      <td>...</td>\n",
       "      <td>...</td>\n",
       "      <td>...</td>\n",
       "      <td>...</td>\n",
       "      <td>...</td>\n",
       "      <td>...</td>\n",
       "      <td>...</td>\n",
       "      <td>...</td>\n",
       "      <td>...</td>\n",
       "      <td>...</td>\n",
       "    </tr>\n",
       "    <tr>\n",
       "      <th>1811</th>\n",
       "      <td>2022-09-27 00:00:00</td>\n",
       "      <td>12.15</td>\n",
       "      <td>1.71</td>\n",
       "      <td>9.59</td>\n",
       "      <td>7.70</td>\n",
       "      <td>8.84</td>\n",
       "      <td>10.97</td>\n",
       "      <td>9.44</td>\n",
       "      <td>5.88</td>\n",
       "      <td>7.23</td>\n",
       "      <td>...</td>\n",
       "      <td>3.49</td>\n",
       "      <td>2.53</td>\n",
       "      <td>4.59</td>\n",
       "      <td>11.52</td>\n",
       "      <td>6.74</td>\n",
       "      <td>34.20</td>\n",
       "      <td>6.84</td>\n",
       "      <td>10.27</td>\n",
       "      <td>5.08</td>\n",
       "      <td>4.75</td>\n",
       "    </tr>\n",
       "    <tr>\n",
       "      <th>1812</th>\n",
       "      <td>2022-09-28 00:00:00</td>\n",
       "      <td>12.11</td>\n",
       "      <td>1.68</td>\n",
       "      <td>9.36</td>\n",
       "      <td>7.37</td>\n",
       "      <td>8.27</td>\n",
       "      <td>10.61</td>\n",
       "      <td>9.22</td>\n",
       "      <td>5.70</td>\n",
       "      <td>6.94</td>\n",
       "      <td>...</td>\n",
       "      <td>3.37</td>\n",
       "      <td>2.49</td>\n",
       "      <td>4.61</td>\n",
       "      <td>11.27</td>\n",
       "      <td>6.66</td>\n",
       "      <td>33.69</td>\n",
       "      <td>6.69</td>\n",
       "      <td>11.30</td>\n",
       "      <td>4.70</td>\n",
       "      <td>4.55</td>\n",
       "    </tr>\n",
       "    <tr>\n",
       "      <th>1813</th>\n",
       "      <td>2022-09-29 00:00:00</td>\n",
       "      <td>11.86</td>\n",
       "      <td>1.67</td>\n",
       "      <td>9.11</td>\n",
       "      <td>7.35</td>\n",
       "      <td>8.07</td>\n",
       "      <td>10.61</td>\n",
       "      <td>9.01</td>\n",
       "      <td>5.65</td>\n",
       "      <td>6.91</td>\n",
       "      <td>...</td>\n",
       "      <td>3.37</td>\n",
       "      <td>2.47</td>\n",
       "      <td>4.53</td>\n",
       "      <td>10.22</td>\n",
       "      <td>6.52</td>\n",
       "      <td>32.85</td>\n",
       "      <td>6.53</td>\n",
       "      <td>10.60</td>\n",
       "      <td>4.50</td>\n",
       "      <td>4.72</td>\n",
       "    </tr>\n",
       "    <tr>\n",
       "      <th>1814</th>\n",
       "      <td>2022-09-30 00:00:00</td>\n",
       "      <td>11.84</td>\n",
       "      <td>1.68</td>\n",
       "      <td>9.19</td>\n",
       "      <td>6.94</td>\n",
       "      <td>8.26</td>\n",
       "      <td>10.50</td>\n",
       "      <td>8.90</td>\n",
       "      <td>5.61</td>\n",
       "      <td>6.91</td>\n",
       "      <td>...</td>\n",
       "      <td>3.32</td>\n",
       "      <td>2.49</td>\n",
       "      <td>4.56</td>\n",
       "      <td>10.32</td>\n",
       "      <td>6.45</td>\n",
       "      <td>32.28</td>\n",
       "      <td>6.55</td>\n",
       "      <td>9.54</td>\n",
       "      <td>4.51</td>\n",
       "      <td>4.72</td>\n",
       "    </tr>\n",
       "    <tr>\n",
       "      <th>1815</th>\n",
       "      <td>2022-10-10 00:00:00</td>\n",
       "      <td>11.47</td>\n",
       "      <td>1.67</td>\n",
       "      <td>9.11</td>\n",
       "      <td>6.80</td>\n",
       "      <td>8.33</td>\n",
       "      <td>10.18</td>\n",
       "      <td>8.72</td>\n",
       "      <td>5.56</td>\n",
       "      <td>6.87</td>\n",
       "      <td>...</td>\n",
       "      <td>3.34</td>\n",
       "      <td>2.53</td>\n",
       "      <td>4.62</td>\n",
       "      <td>10.26</td>\n",
       "      <td>6.47</td>\n",
       "      <td>31.14</td>\n",
       "      <td>6.49</td>\n",
       "      <td>8.61</td>\n",
       "      <td>4.51</td>\n",
       "      <td>4.51</td>\n",
       "    </tr>\n",
       "  </tbody>\n",
       "</table>\n",
       "<p>1006 rows × 837 columns</p>\n",
       "</div>"
      ],
      "text/plain": [
       "                 Datetime  000001  000005  000011  000012  000014  000021  \\\n",
       "3     2012-10-11 00:00:00    3.28    2.88    3.41    3.48    6.87    4.23   \n",
       "4     2012-10-12 00:00:00    3.30    2.90    3.41    3.50    6.79    4.26   \n",
       "10    2012-10-22 00:00:00    3.40    2.95    3.67    3.70    7.21    4.18   \n",
       "19    2012-11-02 00:00:00    3.43    3.08    4.10    3.66    7.03    4.12   \n",
       "20    2012-11-05 00:00:00    3.46    2.98    3.89    3.66    6.71    4.08   \n",
       "...                   ...     ...     ...     ...     ...     ...     ...   \n",
       "1811  2022-09-27 00:00:00   12.15    1.71    9.59    7.70    8.84   10.97   \n",
       "1812  2022-09-28 00:00:00   12.11    1.68    9.36    7.37    8.27   10.61   \n",
       "1813  2022-09-29 00:00:00   11.86    1.67    9.11    7.35    8.07   10.61   \n",
       "1814  2022-09-30 00:00:00   11.84    1.68    9.19    6.94    8.26   10.50   \n",
       "1815  2022-10-10 00:00:00   11.47    1.67    9.11    6.80    8.33   10.18   \n",
       "\n",
       "      000026  000027  000039  ...  601991  601992  601998  603000  603001  \\\n",
       "3       6.39    2.07    3.90  ...    3.53    2.33    1.57    9.72   19.74   \n",
       "4       6.24    2.03    3.86  ...    3.53    2.35    1.59    9.57   19.43   \n",
       "10      6.32    2.04    3.92  ...    3.50    2.47    1.64   10.12   19.72   \n",
       "19      5.95    1.98    3.90  ...    3.30    2.55    1.57    9.86   17.57   \n",
       "20      6.10    2.01    3.91  ...    3.32    2.57    1.57    9.75   17.34   \n",
       "...      ...     ...     ...  ...     ...     ...     ...     ...     ...   \n",
       "1811    9.44    5.88    7.23  ...    3.49    2.53    4.59   11.52    6.74   \n",
       "1812    9.22    5.70    6.94  ...    3.37    2.49    4.61   11.27    6.66   \n",
       "1813    9.01    5.65    6.91  ...    3.37    2.47    4.53   10.22    6.52   \n",
       "1814    8.90    5.61    6.91  ...    3.32    2.49    4.56   10.32    6.45   \n",
       "1815    8.72    5.56    6.87  ...    3.34    2.53    4.62   10.26    6.47   \n",
       "\n",
       "      603008  603167  603366  603766  603993  \n",
       "3       5.33    6.34    6.29    2.02    2.66  \n",
       "4       5.22    6.38    6.17    1.98    2.46  \n",
       "10      5.16    6.29    6.27    2.08    2.27  \n",
       "19      5.39    5.84    5.54    1.88    2.23  \n",
       "20      5.17    5.83    5.48    1.90    2.15  \n",
       "...      ...     ...     ...     ...     ...  \n",
       "1811   34.20    6.84   10.27    5.08    4.75  \n",
       "1812   33.69    6.69   11.30    4.70    4.55  \n",
       "1813   32.85    6.53   10.60    4.50    4.72  \n",
       "1814   32.28    6.55    9.54    4.51    4.72  \n",
       "1815   31.14    6.49    8.61    4.51    4.51  \n",
       "\n",
       "[1006 rows x 837 columns]"
      ]
     },
     "execution_count": 54,
     "metadata": {},
     "output_type": "execute_result"
    }
   ],
   "source": [
    "total_df_final = total_df.dropna()\n",
    "total_df_final"
   ]
  },
  {
   "cell_type": "markdown",
   "id": "797a7c40",
   "metadata": {},
   "source": [
    "проверим, насколько все плохо с разрывами"
   ]
  },
  {
   "cell_type": "code",
   "execution_count": 55,
   "id": "7bfc5a68",
   "metadata": {},
   "outputs": [],
   "source": [
    "actual_date = list(total_df_final['Datetime'])"
   ]
  },
  {
   "cell_type": "code",
   "execution_count": 56,
   "id": "928ccbeb",
   "metadata": {},
   "outputs": [],
   "source": [
    "y = list()\n",
    "\n",
    "for i in start_date:\n",
    "    if i in actual_date:\n",
    "        y.append(1)\n",
    "    else:\n",
    "        y.append(0)"
   ]
  },
  {
   "cell_type": "code",
   "execution_count": 57,
   "id": "e7fddd93",
   "metadata": {},
   "outputs": [
    {
     "data": {
      "text/plain": [
       "Text(0, 0.5, 'Есть ли он в результате')"
      ]
     },
     "execution_count": 57,
     "metadata": {},
     "output_type": "execute_result"
    },
    {
     "data": {
      "image/png": "[encoded data removed]",
      "text/plain": [
       "<Figure size 640x480 with 1 Axes>"
      ]
     },
     "metadata": {},
     "output_type": "display_data"
    }
   ],
   "source": [
    "x = np.arange(0,len(start_date))\n",
    "\n",
    "fig, ax = plt.subplots()\n",
    "ax.plot(x,y)\n",
    "plt.xlabel('День в исходной выборке' , size=16)\n",
    "plt.grid()\n",
    "plt.ylabel('Есть ли он в результате', size=16)"
   ]
  },
  {
   "cell_type": "markdown",
   "id": "b989c8cf",
   "metadata": {},
   "source": [
    "визуально, есть большой разрыв около двух лет."
   ]
  },
  {
   "cell_type": "markdown",
   "id": "fb6275d9",
   "metadata": {},
   "source": [
    "удалим активы с отр. ценами"
   ]
  },
  {
   "cell_type": "code",
   "execution_count": 60,
   "id": "bc2f6475",
   "metadata": {},
   "outputs": [],
   "source": [
    "good_tickers = list()\n",
    "\n",
    "for i in list(total_df.columns)[1:]:\n",
    "    ts = list(total_df[i])\n",
    "    if all([i>=0 for i in ts]):\n",
    "        good_tickers.append(i)"
   ]
  },
  {
   "cell_type": "code",
   "execution_count": 61,
   "id": "ad2faf76",
   "metadata": {},
   "outputs": [],
   "source": [
    "total_df_final = total_df_final[good_tickers]"
   ]
  },
  {
   "cell_type": "code",
   "execution_count": 63,
   "id": "a6eaad78",
   "metadata": {},
   "outputs": [],
   "source": [
    "total_df_final.to_csv('data_final_v2_upd.csv', index = False)"
   ]
  },
  {
   "cell_type": "code",
   "execution_count": null,
   "id": "7e364662",
   "metadata": {},
   "outputs": [],
   "source": []
  },
  {
   "cell_type": "code",
   "execution_count": null,
   "id": "be39a426",
   "metadata": {},
   "outputs": [],
   "source": []
  }
 ],
 "metadata": {
  "kernelspec": {
   "display_name": "Python 3 (ipykernel)",
   "language": "python",
   "name": "python3"
  },
  "language_info": {
   "codemirror_mode": {
    "name": "ipython",
    "version": 3
   },
   "file_extension": ".py",
   "mimetype": "text/x-python",
   "name": "python",
   "nbconvert_exporter": "python",
   "pygments_lexer": "ipython3",
   "version": "3.8.12"
  }
 },
 "nbformat": 4,
 "nbformat_minor": 5
}
